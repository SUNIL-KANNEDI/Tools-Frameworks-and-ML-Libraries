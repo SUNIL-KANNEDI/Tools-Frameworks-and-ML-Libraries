{
  "nbformat": 4,
  "nbformat_minor": 0,
  "metadata": {
    "colab": {
      "provenance": []
    },
    "kernelspec": {
      "name": "python3",
      "display_name": "Python 3"
    },
    "language_info": {
      "name": "python"
    }
  },
  "cells": [
    {
      "cell_type": "markdown",
      "source": [
        "# Numpy"
      ],
      "metadata": {
        "id": "8pBfzNEjeA_C"
      }
    },
    {
      "cell_type": "code",
      "execution_count": null,
      "metadata": {
        "id": "lr1TKakXdyDY"
      },
      "outputs": [],
      "source": [
        "import numpy as np\n",
        "import random"
      ]
    },
    {
      "cell_type": "code",
      "source": [
        "arr = np.array([random.randint(1,10) for i in range(36)])\n",
        "arr"
      ],
      "metadata": {
        "colab": {
          "base_uri": "https://localhost:8080/"
        },
        "id": "vO4vJ9WJfR1d",
        "outputId": "4b1229ed-4a4a-468b-b359-d87c20965953"
      },
      "execution_count": null,
      "outputs": [
        {
          "output_type": "execute_result",
          "data": {
            "text/plain": [
              "array([ 4,  3,  5,  1,  6, 10,  2,  1,  8,  9,  3, 10,  2,  6,  7,  6,  6,\n",
              "        9,  2,  3,  6,  9,  8, 10, 10,  9, 10,  5,  6,  8,  5,  5, 10, 10,\n",
              "        7,  9])"
            ]
          },
          "metadata": {},
          "execution_count": 4
        }
      ]
    },
    {
      "cell_type": "code",
      "source": [
        "arr = arr.reshape((6,6))\n",
        "arr"
      ],
      "metadata": {
        "colab": {
          "base_uri": "https://localhost:8080/"
        },
        "id": "pNJC9Vv6fmRb",
        "outputId": "0bd18b28-a439-4913-9184-b8aa6304bca3"
      },
      "execution_count": null,
      "outputs": [
        {
          "output_type": "execute_result",
          "data": {
            "text/plain": [
              "array([[ 4,  3,  5,  1,  6, 10],\n",
              "       [ 2,  1,  8,  9,  3, 10],\n",
              "       [ 2,  6,  7,  6,  6,  9],\n",
              "       [ 2,  3,  6,  9,  8, 10],\n",
              "       [10,  9, 10,  5,  6,  8],\n",
              "       [ 5,  5, 10, 10,  7,  9]])"
            ]
          },
          "metadata": {},
          "execution_count": 5
        }
      ]
    },
    {
      "cell_type": "code",
      "source": [
        "kernel_size = 2\n",
        "dup = arr.view()\n",
        "dup"
      ],
      "metadata": {
        "colab": {
          "base_uri": "https://localhost:8080/"
        },
        "id": "QE0HqHuXfy-7",
        "outputId": "396fb929-f1f3-42c5-f463-e8477cb74a01"
      },
      "execution_count": null,
      "outputs": [
        {
          "output_type": "execute_result",
          "data": {
            "text/plain": [
              "array([[ 4,  3,  5,  1,  6, 10],\n",
              "       [ 2,  1,  8,  9,  3, 10],\n",
              "       [ 2,  6,  7,  6,  6,  9],\n",
              "       [ 2,  3,  6,  9,  8, 10],\n",
              "       [10,  9, 10,  5,  6,  8],\n",
              "       [ 5,  5, 10, 10,  7,  9]])"
            ]
          },
          "metadata": {},
          "execution_count": 7
        }
      ]
    },
    {
      "cell_type": "code",
      "source": [
        "kernel = dup[(dup.shape[0]//2)-(kernel_size//2):(dup.shape[0]//2)-(kernel_size//2)+ kernel_size,(dup.shape[0]//2)-(kernel_size//2):(dup.shape[0]//2)-(kernel_size//2)+ kernel_size]\n",
        "kernel"
      ],
      "metadata": {
        "colab": {
          "base_uri": "https://localhost:8080/"
        },
        "id": "5hMo9lryh_du",
        "outputId": "2a07ec7d-3ccb-44dc-d272-e3d5c8dea82b"
      },
      "execution_count": null,
      "outputs": [
        {
          "output_type": "execute_result",
          "data": {
            "text/plain": [
              "array([[7, 6],\n",
              "       [6, 9]])"
            ]
          },
          "metadata": {},
          "execution_count": 11
        }
      ]
    },
    {
      "cell_type": "code",
      "source": [
        "dup"
      ],
      "metadata": {
        "colab": {
          "base_uri": "https://localhost:8080/"
        },
        "id": "GMF8PWlHiKP_",
        "outputId": "e1ffc6bf-aa9b-48e4-8a19-86020455e271"
      },
      "execution_count": null,
      "outputs": [
        {
          "output_type": "execute_result",
          "data": {
            "text/plain": [
              "array([[ 4,  3,  5,  1,  6, 10],\n",
              "       [ 2,  1,  8,  9,  3, 10],\n",
              "       [10,  9, 10,  5,  6,  8],\n",
              "       [ 2,  3,  6,  9,  8, 10],\n",
              "       [ 2,  6,  7,  6,  6,  9],\n",
              "       [ 5,  5, 10, 10,  7,  9]])"
            ]
          },
          "metadata": {},
          "execution_count": 16
        }
      ]
    },
    {
      "cell_type": "code",
      "source": [
        "for i in range(dup.shape[0]):\n",
        "  dup[2][i],dup[4][i]=dup[4][i],dup[2][i]\n",
        "\n",
        "dup"
      ],
      "metadata": {
        "colab": {
          "base_uri": "https://localhost:8080/"
        },
        "id": "GyjPnw0ZjjD5",
        "outputId": "6829433a-a489-4fd7-abf5-81d748fa6c3f"
      },
      "execution_count": null,
      "outputs": [
        {
          "output_type": "execute_result",
          "data": {
            "text/plain": [
              "array([[ 4,  3,  5,  1,  6, 10],\n",
              "       [ 2,  1,  8,  9,  3, 10],\n",
              "       [ 2,  6,  7,  6,  6,  9],\n",
              "       [ 2,  3,  6,  9,  8, 10],\n",
              "       [10,  9, 10,  5,  6,  8],\n",
              "       [ 5,  5, 10, 10,  7,  9]])"
            ]
          },
          "metadata": {},
          "execution_count": 17
        }
      ]
    },
    {
      "cell_type": "code",
      "source": [],
      "metadata": {
        "colab": {
          "base_uri": "https://localhost:8080/",
          "height": 159
        },
        "id": "kLJxZ67OkJZF",
        "outputId": "af172cf9-0c75-4372-ff87-5a6b167b9541"
      },
      "execution_count": null,
      "outputs": [
        {
          "output_type": "error",
          "ename": "TypeError",
          "evalue": "slice indices must be integers or None or have an __index__ method",
          "traceback": [
            "\u001b[0;31m---------------------------------------------------------------------------\u001b[0m",
            "\u001b[0;31mTypeError\u001b[0m                                 Traceback (most recent call last)",
            "\u001b[0;32m<ipython-input-19-0f34d59c51a3>\u001b[0m in \u001b[0;36m<cell line: 0>\u001b[0;34m()\u001b[0m\n\u001b[0;32m----> 1\u001b[0;31m \u001b[0mdup\u001b[0m\u001b[0;34m[\u001b[0m\u001b[0;34m:\u001b[0m\u001b[0;34m[\u001b[0m\u001b[0;36m0\u001b[0m\u001b[0;34m,\u001b[0m\u001b[0;36m1\u001b[0m\u001b[0;34m]\u001b[0m\u001b[0;34m]\u001b[0m\u001b[0;34m=\u001b[0m\u001b[0mdup\u001b[0m\u001b[0;34m[\u001b[0m\u001b[0;34m:\u001b[0m\u001b[0;34m[\u001b[0m\u001b[0;36m1\u001b[0m\u001b[0;34m,\u001b[0m\u001b[0;36m0\u001b[0m\u001b[0;34m]\u001b[0m\u001b[0;34m]\u001b[0m\u001b[0;34m\u001b[0m\u001b[0;34m\u001b[0m\u001b[0m\n\u001b[0m\u001b[1;32m      2\u001b[0m \u001b[0mdup\u001b[0m\u001b[0;34m\u001b[0m\u001b[0;34m\u001b[0m\u001b[0m\n",
            "\u001b[0;31mTypeError\u001b[0m: slice indices must be integers or None or have an __index__ method"
          ]
        }
      ]
    },
    {
      "cell_type": "code",
      "source": [],
      "metadata": {
        "id": "Ta13LDB3lQ3i"
      },
      "execution_count": null,
      "outputs": []
    }
  ]
}