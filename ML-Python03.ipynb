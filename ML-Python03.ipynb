{
  "cells": [
    {
      "cell_type": "code",
      "execution_count": null,
      "id": "004e8c73-71b3-4790-8013-d5e800e7ea71",
      "metadata": {
        "id": "004e8c73-71b3-4790-8013-d5e800e7ea71"
      },
      "outputs": [],
      "source": [
        "# import numpy and random library\n",
        "import numpy as np\n",
        "import random"
      ]
    },
    {
      "cell_type": "code",
      "execution_count": null,
      "id": "b8cbef0c-ab94-47dc-839b-a6dafe0e7d3d",
      "metadata": {
        "id": "b8cbef0c-ab94-47dc-839b-a6dafe0e7d3d",
        "outputId": "f39c3910-2f16-4524-a930-9caa7106f6ac"
      },
      "outputs": [
        {
          "data": {
            "text/plain": [
              "array([ 2,  4,  6,  4,  6,  9,  3,  3,  8,  1,  5,  8,  4,  1, 10,  2,  6,\n",
              "        2,  4,  2, 10,  3, 10,  3,  3,  7, 10,  7,  1,  4,  5,  8, 10,  1,\n",
              "        1,  8])"
            ]
          },
          "execution_count": 3,
          "metadata": {},
          "output_type": "execute_result"
        }
      ],
      "source": [
        "# creating 6X6 matrices\n",
        "arr = np.array([random.randint(1,10) for i in range(36)])\n",
        "arr"
      ]
    },
    {
      "cell_type": "code",
      "execution_count": null,
      "id": "ac154290-6475-4dcd-ab5f-fe50a01c7884",
      "metadata": {
        "id": "ac154290-6475-4dcd-ab5f-fe50a01c7884",
        "outputId": "3d863a93-c8aa-4eb9-fac1-0df07ea0a78f"
      },
      "outputs": [
        {
          "data": {
            "text/plain": [
              "array([[ 2,  4,  6,  4,  6,  9],\n",
              "       [ 3,  3,  8,  1,  5,  8],\n",
              "       [ 4,  1, 10,  2,  6,  2],\n",
              "       [ 4,  2, 10,  3, 10,  3],\n",
              "       [ 3,  7, 10,  7,  1,  4],\n",
              "       [ 5,  8, 10,  1,  1,  8]])"
            ]
          },
          "execution_count": 4,
          "metadata": {},
          "output_type": "execute_result"
        }
      ],
      "source": [
        "arr = arr.reshape((6,6))\n",
        "arr"
      ]
    },
    {
      "cell_type": "code",
      "execution_count": null,
      "id": "9d8db57e-20dd-4e34-8ad4-4f02ef91bb2f",
      "metadata": {
        "id": "9d8db57e-20dd-4e34-8ad4-4f02ef91bb2f",
        "outputId": "8acaa59c-480e-42ee-8337-2d2cd2a44847"
      },
      "outputs": [
        {
          "data": {
            "text/plain": [
              "array([[ 2,  4,  6,  4,  6,  9],\n",
              "       [ 3,  3,  8,  1,  5,  8],\n",
              "       [ 4,  1, 10,  2,  6,  2],\n",
              "       [ 4,  2, 10,  3, 10,  3],\n",
              "       [ 3,  7, 10,  7,  1,  4],\n",
              "       [ 5,  8, 10,  1,  1,  8]])"
            ]
          },
          "execution_count": 5,
          "metadata": {},
          "output_type": "execute_result"
        }
      ],
      "source": [
        "# Exploring view and copy and extracting kernel(2X2) from inputmatrix (6X6)\n",
        "kernel_size = 2\n",
        "dup = arr.view()\n",
        "dup"
      ]
    },
    {
      "cell_type": "code",
      "execution_count": null,
      "id": "46b928da-0c3e-488d-b607-66a6169be88f",
      "metadata": {
        "id": "46b928da-0c3e-488d-b607-66a6169be88f",
        "outputId": "3fe8e5fe-bdcb-4d73-9b2c-42cde41f3d82"
      },
      "outputs": [
        {
          "data": {
            "text/plain": [
              "array([[10,  2],\n",
              "       [10,  3]])"
            ]
          },
          "execution_count": 6,
          "metadata": {},
          "output_type": "execute_result"
        }
      ],
      "source": [
        "kernel = dup[(dup.shape[0]//2)-(kernel_size//2):(dup.shape[0]//2)-(kernel_size//2)+ kernel_size,(dup.shape[0]//2)-(kernel_size//2):(dup.shape[0]//2)-(kernel_size//2)+ kernel_size]\n",
        "kernel"
      ]
    },
    {
      "cell_type": "code",
      "execution_count": null,
      "id": "8a76e055-5e86-47fc-99e6-e0cf4dfa0987",
      "metadata": {
        "id": "8a76e055-5e86-47fc-99e6-e0cf4dfa0987",
        "outputId": "da776326-8d4a-4212-b020-21c654d64bb3"
      },
      "outputs": [
        {
          "data": {
            "text/plain": [
              "array([[ 2,  4,  6,  4,  6,  9],\n",
              "       [ 3,  3,  8,  1,  5,  8],\n",
              "       [ 4,  1, 10,  2,  6,  2],\n",
              "       [ 4,  2, 10,  3, 10,  3],\n",
              "       [ 3,  7, 10,  7,  1,  4],\n",
              "       [ 5,  8, 10,  1,  1,  8]])"
            ]
          },
          "execution_count": 7,
          "metadata": {},
          "output_type": "execute_result"
        }
      ],
      "source": [
        "dup"
      ]
    },
    {
      "cell_type": "code",
      "execution_count": null,
      "id": "bd63bb7b-faa3-4ecb-99f2-3e82f4a833a1",
      "metadata": {
        "id": "bd63bb7b-faa3-4ecb-99f2-3e82f4a833a1",
        "outputId": "8fb3615a-ed41-4423-e2a6-120ce53de968"
      },
      "outputs": [
        {
          "data": {
            "text/plain": [
              "array([[ 2,  4,  6,  4,  6,  9],\n",
              "       [ 3,  3,  8,  1,  5,  8],\n",
              "       [ 3,  7, 10,  7,  1,  4],\n",
              "       [ 4,  2, 10,  3, 10,  3],\n",
              "       [ 4,  1, 10,  2,  6,  2],\n",
              "       [ 5,  8, 10,  1,  1,  8]])"
            ]
          },
          "execution_count": 8,
          "metadata": {},
          "output_type": "execute_result"
        }
      ],
      "source": [
        "# swaping rows by using for loop\n",
        "for i in range(dup.shape[0]):\n",
        "  dup[2][i],dup[4][i]=dup[4][i],dup[2][i]\n",
        "\n",
        "dup"
      ]
    },
    {
      "cell_type": "code",
      "execution_count": null,
      "id": "b6246b07-8f6b-48d4-8212-dd64b328e07e",
      "metadata": {
        "id": "b6246b07-8f6b-48d4-8212-dd64b328e07e",
        "outputId": "48ea87ac-7b39-4464-c049-30d355d5c39a"
      },
      "outputs": [
        {
          "data": {
            "text/plain": [
              "array([[ 4,  2,  6,  4,  6,  9],\n",
              "       [ 3,  3,  8,  1,  5,  8],\n",
              "       [ 7,  3, 10,  7,  1,  4],\n",
              "       [ 2,  4, 10,  3, 10,  3],\n",
              "       [ 1,  4, 10,  2,  6,  2],\n",
              "       [ 8,  5, 10,  1,  1,  8]])"
            ]
          },
          "execution_count": 9,
          "metadata": {},
          "output_type": "execute_result"
        }
      ],
      "source": [
        "# swapping colums by indices/slicing\n",
        "dup[:,[0,1]]=dup[:,[1,0]]\n",
        "dup"
      ]
    },
    {
      "cell_type": "code",
      "execution_count": null,
      "id": "70faafdb-150c-48ec-9582-c6f03b17c037",
      "metadata": {
        "id": "70faafdb-150c-48ec-9582-c6f03b17c037",
        "outputId": "122ac383-1618-40a8-dbc4-11174cda0407"
      },
      "outputs": [
        {
          "data": {
            "text/plain": [
              "array([[ 4,  2,  6,  4,  6,  9],\n",
              "       [ 3,  3,  8,  1,  5,  8],\n",
              "       [ 2,  4, 10,  3, 10,  3],\n",
              "       [ 7,  3, 10,  7,  1,  4],\n",
              "       [ 1,  4, 10,  2,  6,  2],\n",
              "       [ 8,  5, 10,  1,  1,  8]])"
            ]
          },
          "execution_count": 10,
          "metadata": {},
          "output_type": "execute_result"
        }
      ],
      "source": [
        "# swapping rows by indices/slicing\n",
        "dup[[2,3],:]=dup[[3,2],:]\n",
        "dup"
      ]
    },
    {
      "cell_type": "code",
      "execution_count": null,
      "id": "c8b5fabf-70bb-4d50-a8df-e5cde213c94c",
      "metadata": {
        "id": "c8b5fabf-70bb-4d50-a8df-e5cde213c94c",
        "outputId": "e71746cd-658b-4463-a5ea-9924e376c291"
      },
      "outputs": [
        {
          "data": {
            "text/plain": [
              "(array([0, 0, 0, 1, 1, 2, 2, 3, 3, 3, 4, 4, 5, 5, 5], dtype=int64),\n",
              " array([2, 4, 5, 2, 5, 2, 4, 0, 2, 3, 2, 4, 0, 2, 5], dtype=int64))"
            ]
          },
          "execution_count": 11,
          "metadata": {},
          "output_type": "execute_result"
        }
      ],
      "source": [
        "# Extracting elements in numpy based on condition using np.where() return indexies\n",
        "temp = np.where(dup>5)\n",
        "temp"
      ]
    },
    {
      "cell_type": "code",
      "execution_count": null,
      "id": "43a3f39a-15e0-48c5-a707-7dec39b0c25c",
      "metadata": {
        "id": "43a3f39a-15e0-48c5-a707-7dec39b0c25c",
        "outputId": "8da55411-bc5d-4856-c83d-878a95cdb20d"
      },
      "outputs": [
        {
          "data": {
            "text/plain": [
              "array([5, 6, 7, 8, 9])"
            ]
          },
          "execution_count": 12,
          "metadata": {},
          "output_type": "execute_result"
        }
      ],
      "source": [
        "# creating 1D array\n",
        "arr = np.array([i for i in range(5,10)])\n",
        "arr"
      ]
    },
    {
      "cell_type": "code",
      "execution_count": null,
      "id": "0b43eba7-64fd-4dbe-8445-f691acbb6f4a",
      "metadata": {
        "id": "0b43eba7-64fd-4dbe-8445-f691acbb6f4a",
        "outputId": "9043fe08-8b9a-4502-d0e7-f03f757cd77f"
      },
      "outputs": [
        {
          "data": {
            "text/plain": [
              "(array([4], dtype=int64),)"
            ]
          },
          "execution_count": 13,
          "metadata": {},
          "output_type": "execute_result"
        }
      ],
      "source": [
        "# Extracting elements in numpy based on condition using np.where() return indexies but works only for 1D\n",
        "np.where(arr>8)"
      ]
    },
    {
      "cell_type": "code",
      "execution_count": null,
      "id": "fd5a561f-d212-47ea-9e9d-a6272651cbe6",
      "metadata": {
        "id": "fd5a561f-d212-47ea-9e9d-a6272651cbe6",
        "outputId": "786f7ce8-4a23-4f7a-b427-afbbc269692f"
      },
      "outputs": [
        {
          "data": {
            "text/plain": [
              "array([5, 6, 7, 8, 9])"
            ]
          },
          "execution_count": 14,
          "metadata": {},
          "output_type": "execute_result"
        }
      ],
      "source": [
        "arr"
      ]
    },
    {
      "cell_type": "code",
      "execution_count": null,
      "id": "087a8218-bb7c-425b-8d32-543edcee82da",
      "metadata": {
        "id": "087a8218-bb7c-425b-8d32-543edcee82da",
        "outputId": "bf16a1ad-e09d-4dda-dceb-4f3edcb00b3b"
      },
      "outputs": [
        {
          "data": {
            "text/plain": [
              "9"
            ]
          },
          "execution_count": 15,
          "metadata": {},
          "output_type": "execute_result"
        }
      ],
      "source": [
        "# searchsorted() is used to search an element and return index\n",
        "np.searchsorted([random.randint(1,10) for i in range(10)],random.randint(1,10))"
      ]
    },
    {
      "cell_type": "code",
      "execution_count": null,
      "id": "5e041c8a-1664-47d7-a2db-31b4f76d2349",
      "metadata": {
        "id": "5e041c8a-1664-47d7-a2db-31b4f76d2349",
        "outputId": "e44e4a5f-ddaf-4dd8-dd9c-748333fd6bcc"
      },
      "outputs": [
        {
          "data": {
            "text/plain": [
              "(array([3, 2, 2, 4, 2]), array([5, 8, 4, 8, 3]))"
            ]
          },
          "execution_count": 16,
          "metadata": {},
          "output_type": "execute_result"
        }
      ],
      "source": [
        "# creating 2 1D numpy arrays\n",
        "a=np.array([random.randint(1,5) for i in range(5)])\n",
        "b=np.array([random.randint(3,8) for i in range(5)])\n",
        "a,b"
      ]
    },
    {
      "cell_type": "code",
      "execution_count": null,
      "id": "63605bcc-a513-4210-9f3a-0ea3674f5ad3",
      "metadata": {
        "id": "63605bcc-a513-4210-9f3a-0ea3674f5ad3",
        "outputId": "88f55412-006d-4a68-8ff8-9023c6e9f220"
      },
      "outputs": [
        {
          "data": {
            "text/plain": [
              "array([2, 3, 4, 5, 8])"
            ]
          },
          "execution_count": 17,
          "metadata": {},
          "output_type": "execute_result"
        }
      ],
      "source": [
        "# union of 2 1-D numpy arrays return unique elements from both numpy arrays\n",
        "union = np.union1d(a,b)\n",
        "union"
      ]
    },
    {
      "cell_type": "code",
      "execution_count": null,
      "id": "00c02f98-28e6-44ef-8f3d-af54f501fb6d",
      "metadata": {
        "id": "00c02f98-28e6-44ef-8f3d-af54f501fb6d",
        "outputId": "f3759414-6e99-41e5-f66c-02d013b4ff80"
      },
      "outputs": [
        {
          "data": {
            "text/plain": [
              "(array([1, 1, 1, 1, 1]), array([4, 5, 8, 7, 4]), array([4, 2, 3, 5, 5]))"
            ]
          },
          "execution_count": 18,
          "metadata": {},
          "output_type": "execute_result"
        }
      ],
      "source": [
        "# creating 3 1D numpy arrays\n",
        "a=np.array([random.randint(1,5) for i in range(5)])\n",
        "b=np.array([random.randint(3,8) for i in range(5)])\n",
        "c=np.array([random.randint(1,5) for i in range(5)])\n",
        "a,b,c"
      ]
    },
    {
      "cell_type": "code",
      "execution_count": null,
      "id": "c6f13d1a-8464-4f18-88bb-ebdeae5ce762",
      "metadata": {
        "id": "c6f13d1a-8464-4f18-88bb-ebdeae5ce762"
      },
      "outputs": [],
      "source": [
        "# importing reduce from functools\n",
        "from functools import reduce"
      ]
    },
    {
      "cell_type": "code",
      "execution_count": null,
      "id": "58cba656-cccc-4a3a-a084-86309a4baf85",
      "metadata": {
        "id": "58cba656-cccc-4a3a-a084-86309a4baf85",
        "outputId": "ec0087d5-dd0c-40ac-ea93-edce873ab567"
      },
      "outputs": [
        {
          "data": {
            "text/plain": [
              "array([1, 2, 3, 4, 5, 7, 8])"
            ]
          },
          "execution_count": 20,
          "metadata": {},
          "output_type": "execute_result"
        }
      ],
      "source": [
        "# union of 3 1-D numpy arrays return unique elements from 3 numpy arrays using reduce\n",
        "res = reduce(np.union1d,(a,b,c))\n",
        "res"
      ]
    },
    {
      "cell_type": "code",
      "execution_count": null,
      "id": "685e296e-2cf2-4104-bb6e-83b29155f7da",
      "metadata": {
        "id": "685e296e-2cf2-4104-bb6e-83b29155f7da",
        "outputId": "1f04839d-8e70-49a7-9965-68c1c7539516"
      },
      "outputs": [
        {
          "data": {
            "text/plain": [
              "array([4, 5, 7, 8])"
            ]
          },
          "execution_count": 21,
          "metadata": {},
          "output_type": "execute_result"
        }
      ],
      "source": [
        "unique = np.unique(b)\n",
        "unique"
      ]
    },
    {
      "cell_type": "code",
      "execution_count": null,
      "id": "c9c1ac79-0779-49d6-b5ad-7e66d1710413",
      "metadata": {
        "id": "c9c1ac79-0779-49d6-b5ad-7e66d1710413",
        "outputId": "05d4c9e2-2828-449f-e20e-621198657c52"
      },
      "outputs": [
        {
          "data": {
            "text/plain": [
              "array([[ 4,  2,  6,  4,  6,  9],\n",
              "       [ 3,  3,  8,  1,  5,  8],\n",
              "       [ 2,  4, 10,  3, 10,  3],\n",
              "       [ 7,  3, 10,  7,  1,  4],\n",
              "       [ 1,  4, 10,  2,  6,  2],\n",
              "       [ 8,  5, 10,  1,  1,  8]])"
            ]
          },
          "execution_count": 22,
          "metadata": {},
          "output_type": "execute_result"
        }
      ],
      "source": [
        "dup"
      ]
    },
    {
      "cell_type": "code",
      "execution_count": null,
      "id": "f290fdd1-9cc3-4085-9281-ba3f602cdde8",
      "metadata": {
        "id": "f290fdd1-9cc3-4085-9281-ba3f602cdde8",
        "outputId": "8f720812-81f1-402c-b778-9e1d3def4dde"
      },
      "outputs": [
        {
          "data": {
            "text/plain": [
              "array([ 1,  2,  3,  4,  5,  6,  7,  8,  9, 10])"
            ]
          },
          "execution_count": 23,
          "metadata": {},
          "output_type": "execute_result"
        }
      ],
      "source": [
        "# extracting unique elements from numpy array\n",
        "unique = np.unique(dup)\n",
        "unique"
      ]
    },
    {
      "cell_type": "code",
      "execution_count": null,
      "id": "d5058dea-0169-4c2a-8e0b-478b1bf37e9d",
      "metadata": {
        "id": "d5058dea-0169-4c2a-8e0b-478b1bf37e9d",
        "outputId": "d57ad9ad-19aa-4eee-b8d7-1527b7ee5a96"
      },
      "outputs": [
        {
          "data": {
            "text/plain": [
              "array([ 2,  3,  4, 10])"
            ]
          },
          "execution_count": 24,
          "metadata": {},
          "output_type": "execute_result"
        }
      ],
      "source": [
        "# extracting unique elements form specific row in numpy array\n",
        "row_unique = np.unique(dup[2:3])\n",
        "row_unique"
      ]
    },
    {
      "cell_type": "code",
      "execution_count": null,
      "id": "d511bc3b-8ef6-41d7-9c3d-b5b7f57d750c",
      "metadata": {
        "id": "d511bc3b-8ef6-41d7-9c3d-b5b7f57d750c",
        "outputId": "19983e4a-e2c4-447e-abfb-7652cc4e32cb"
      },
      "outputs": [
        {
          "data": {
            "text/plain": [
              "array([1, 2, 3, 4, 7, 8])"
            ]
          },
          "execution_count": 25,
          "metadata": {},
          "output_type": "execute_result"
        }
      ],
      "source": [
        "# extracting unique elements form specific column in numpy array\n",
        "col_unique = np.unique(dup[:,0:1])\n",
        "col_unique"
      ]
    },
    {
      "cell_type": "code",
      "execution_count": null,
      "id": "3e2be5d8-e318-455f-bf0c-871f0250e184",
      "metadata": {
        "id": "3e2be5d8-e318-455f-bf0c-871f0250e184",
        "outputId": "26578092-72b3-472c-9edb-8cec72503ea0"
      },
      "outputs": [
        {
          "data": {
            "text/plain": [
              "array([[0, 1, 1, 0, 0, 0],\n",
              "       [0, 0, 0, 1, 1, 0],\n",
              "       [0, 1, 0, 0, 0, 1],\n",
              "       [1, 0, 0, 1, 1, 0],\n",
              "       [0, 0, 0, 1, 0, 1],\n",
              "       [1, 0, 0, 1, 0, 1]])"
            ]
          },
          "execution_count": 26,
          "metadata": {},
          "output_type": "execute_result"
        }
      ],
      "source": [
        "# creating a sparse matrix of size 6X6\n",
        "sparse_matrix = np.array([random.randint(0,1) for i in range(36)]).reshape((6,6))\n",
        "sparse_matrix"
      ]
    },
    {
      "cell_type": "code",
      "execution_count": null,
      "id": "782ba23b-a170-401a-8011-86c395c0e0e3",
      "metadata": {
        "id": "782ba23b-a170-401a-8011-86c395c0e0e3",
        "outputId": "9eb1daac-eaf8-4152-f0b1-4b5b6a4d810f"
      },
      "outputs": [
        {
          "data": {
            "text/plain": [
              "14"
            ]
          },
          "execution_count": 28,
          "metadata": {},
          "output_type": "execute_result"
        }
      ],
      "source": [
        "# count non zero in matrix\n",
        "sum(sum(sparse_matrix))"
      ]
    },
    {
      "cell_type": "code",
      "execution_count": null,
      "id": "7c624c99-92f5-48e5-a4da-e5a6d3196329",
      "metadata": {
        "id": "7c624c99-92f5-48e5-a4da-e5a6d3196329"
      },
      "outputs": [],
      "source": [
        "# matplotlib"
      ]
    },
    {
      "cell_type": "code",
      "execution_count": null,
      "id": "f96dcadb-0577-4feb-a8fb-dd42288d2c11",
      "metadata": {
        "id": "f96dcadb-0577-4feb-a8fb-dd42288d2c11"
      },
      "outputs": [],
      "source": [
        "import matplotlib.pyplot as plt"
      ]
    },
    {
      "cell_type": "code",
      "execution_count": null,
      "id": "e639c36f-5eee-41e0-a737-4864067c86f9",
      "metadata": {
        "id": "e639c36f-5eee-41e0-a737-4864067c86f9",
        "outputId": "bafa8164-70b3-4cdb-afc7-a10b66ff8ac8"
      },
      "outputs": [
        {
          "data": {
            "text/plain": [
              "(array([ 1,  2,  3,  4,  5,  6,  7,  8,  9, 10]),\n",
              " array([  1,   4,   9,  16,  25,  36,  49,  64,  81, 100]))"
            ]
          },
          "execution_count": 32,
          "metadata": {},
          "output_type": "execute_result"
        }
      ],
      "source": [
        "# creating numpy array of numbers and its squares\n",
        "x = np.array([i for i in range(1,11)])\n",
        "y = np.array([i**2 for i in range(1,11)])\n",
        "x,y"
      ]
    },
    {
      "cell_type": "code",
      "execution_count": null,
      "id": "f92dc79a-af5d-4d59-961f-f47132542fbb",
      "metadata": {
        "id": "f92dc79a-af5d-4d59-961f-f47132542fbb",
        "outputId": "e7955f75-9b00-4010-f64b-c86a23efd540"
      },
      "outputs": [
        {
          "name": "stderr",
          "output_type": "stream",
          "text": [
            "No artists with labels found to put in legend.  Note that artists whose label start with an underscore are ignored when legend() is called with no argument.\n"
          ]
        },
        {
          "data": {
            "image/png": "[encoded data removed]",
            "text/plain": [
              "<Figure size 640x480 with 1 Axes>"
            ]
          },
          "metadata": {},
          "output_type": "display_data"
        }
      ],
      "source": [
        "# ploting a graph using matplotlib.pyplot\n",
        "plt.plot(x,y)\n",
        "plt.xlabel(xlabel=\"number\")\n",
        "plt.ylabel(ylabel=\"square\")\n",
        "plt.legend()\n",
        "plt.title(\"square of numbers\")\n",
        "plt.show()"
      ]
    },
    {
      "cell_type": "code",
      "execution_count": null,
      "id": "16594ad8-e8b3-4a57-9006-67aa08500192",
      "metadata": {
        "id": "16594ad8-e8b3-4a57-9006-67aa08500192",
        "outputId": "117df68f-744f-46e7-d4fa-e9bfe2a66b00"
      },
      "outputs": [
        {
          "data": {
            "image/png": "[encoded data removed]",
            "text/plain": [
              "<Figure size 640x480 with 1 Axes>"
            ]
          },
          "metadata": {},
          "output_type": "display_data"
        }
      ],
      "source": [
        "# ploting bar graph\n",
        "plt.bar(x,y)\n",
        "plt.show()"
      ]
    },
    {
      "cell_type": "code",
      "execution_count": null,
      "id": "e7f337de-d346-439a-bb2c-aa91bc6137a0",
      "metadata": {
        "id": "e7f337de-d346-439a-bb2c-aa91bc6137a0",
        "outputId": "2805bf17-94fc-4f53-d7eb-aa2fad72f02f"
      },
      "outputs": [
        {
          "data": {
            "image/png": "[encoded data removed]",
            "text/plain": [
              "<Figure size 640x480 with 1 Axes>"
            ]
          },
          "metadata": {},
          "output_type": "display_data"
        }
      ],
      "source": [
        "# ploting histogram\n",
        "plt.hist(x,y)\n",
        "plt.show()"
      ]
    },
    {
      "cell_type": "code",
      "execution_count": null,
      "id": "71a09f64-d2e8-4087-be98-20610add9f30",
      "metadata": {
        "id": "71a09f64-d2e8-4087-be98-20610add9f30",
        "outputId": "b36ba8bb-affc-4992-e6e1-f8164fbc0407"
      },
      "outputs": [
        {
          "data": {
            "image/png": "[encoded data removed]",
            "text/plain": [
              "<Figure size 640x480 with 1 Axes>"
            ]
          },
          "metadata": {},
          "output_type": "display_data"
        }
      ],
      "source": [
        "# ploting scatter plot to see distribution of points\n",
        "plt.scatter(x,y)\n",
        "plt.show()"
      ]
    },
    {
      "cell_type": "code",
      "execution_count": null,
      "id": "9f1d8708-f67d-43c8-b526-fd62fd996304",
      "metadata": {
        "id": "9f1d8708-f67d-43c8-b526-fd62fd996304"
      },
      "outputs": [],
      "source": [
        "#plt.pie(x,y)\n",
        "#plt.show()"
      ]
    },
    {
      "cell_type": "code",
      "execution_count": null,
      "id": "e37b1228-a112-426f-93be-edc33640c365",
      "metadata": {
        "id": "e37b1228-a112-426f-93be-edc33640c365",
        "outputId": "8be6ba07-ef29-447a-fa16-1475801cf24c"
      },
      "outputs": [
        {
          "data": {
            "image/png": "[encoded data removed]",
            "text/plain": [
              "<Figure size 640x480 with 1 Axes>"
            ]
          },
          "metadata": {},
          "output_type": "display_data"
        }
      ],
      "source": [
        "# ploting pie chart\n",
        "plt.pie(x)\n",
        "plt.show()"
      ]
    },
    {
      "cell_type": "code",
      "execution_count": null,
      "id": "2d55c991-fbd0-462b-9a60-1c877e1915ef",
      "metadata": {
        "id": "2d55c991-fbd0-462b-9a60-1c877e1915ef",
        "outputId": "9e14f08c-22fd-45a0-8245-4e7b498c4110"
      },
      "outputs": [
        {
          "data": {
            "image/png": "[encoded data removed]",
            "text/plain": [
              "<Figure size 640x480 with 1 Axes>"
            ]
          },
          "metadata": {},
          "output_type": "display_data"
        }
      ],
      "source": [
        "# drawing box plot to detect outliers in data\n",
        "plt.boxplot(x)\n",
        "plt.show()"
      ]
    },
    {
      "cell_type": "code",
      "execution_count": null,
      "id": "46cb4665-47bb-4c65-a61c-0e4273894acd",
      "metadata": {
        "id": "46cb4665-47bb-4c65-a61c-0e4273894acd",
        "outputId": "9ca4647c-900a-4e75-aa7a-2ec0db30f7ce"
      },
      "outputs": [
        {
          "data": {
            "image/png": "[encoded data removed]",
            "text/plain": [
              "<Figure size 640x480 with 1 Axes>"
            ]
          },
          "metadata": {},
          "output_type": "display_data"
        }
      ],
      "source": [
        "# fill_between used to represent area under the curve\n",
        "plt.fill_between(x,y)\n",
        "plt.show()"
      ]
    },
    {
      "cell_type": "code",
      "execution_count": null,
      "id": "d53e064d-f962-4287-a4c9-b55f8192dda3",
      "metadata": {
        "id": "d53e064d-f962-4287-a4c9-b55f8192dda3",
        "outputId": "3b3ccf15-7bc7-4ca2-d38b-86f256b29b53"
      },
      "outputs": [
        {
          "data": {
            "image/png": "[encoded data removed]",
            "text/plain": [
              "<Figure size 640x480 with 2 Axes>"
            ]
          },
          "metadata": {},
          "output_type": "display_data"
        }
      ],
      "source": [
        "# subplots are used to visualize more than 1 graph\n",
        "fig, ax = plt.subplots(nrows=1,ncols=2,sharey=True,sharex=True)\n",
        "a=ax[0].plot(x,y)\n",
        "b=ax[1].bar(x,y)\n",
        "plt.legend(a,b)\n",
        "plt.show()\n"
      ]
    },
    {
      "cell_type": "code",
      "execution_count": null,
      "id": "468cd6ea-eef2-4fea-aa67-beaf66306798",
      "metadata": {
        "id": "468cd6ea-eef2-4fea-aa67-beaf66306798"
      },
      "outputs": [],
      "source": [
        "# completed"
      ]
    },
    {
      "cell_type": "code",
      "execution_count": null,
      "id": "bc32ef90-b1dd-4bb5-83d9-3ff00711053e",
      "metadata": {
        "id": "bc32ef90-b1dd-4bb5-83d9-3ff00711053e"
      },
      "outputs": [],
      "source": []
    }
  ],
  "metadata": {
    "kernelspec": {
      "display_name": "Python 3 (ipykernel)",
      "language": "python",
      "name": "python3"
    },
    "language_info": {
      "codemirror_mode": {
        "name": "ipython",
        "version": 3
      },
      "file_extension": ".py",
      "mimetype": "text/x-python",
      "name": "python",
      "nbconvert_exporter": "python",
      "pygments_lexer": "ipython3",
      "version": "3.12.2"
    },
    "colab": {
      "provenance": []
    }
  },
  "nbformat": 4,
  "nbformat_minor": 5
}