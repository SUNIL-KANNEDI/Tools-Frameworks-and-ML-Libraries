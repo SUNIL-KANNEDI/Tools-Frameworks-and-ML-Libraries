{
  "nbformat": 4,
  "nbformat_minor": 0,
  "metadata": {
    "colab": {
      "provenance": [],
      "gpuType": "T4"
    },
    "kernelspec": {
      "name": "python3",
      "display_name": "Python 3"
    },
    "language_info": {
      "name": "python"
    },
    "accelerator": "GPU"
  },
  "cells": [
    {
      "cell_type": "markdown",
      "source": [
        "## PyTorch Fundamentals\n",
        "Resource Notebook:https://learnpytorch.io"
      ],
      "metadata": {
        "id": "vpnsk3WOLR78"
      }
    },
    {
      "cell_type": "code",
      "execution_count": null,
      "metadata": {
        "colab": {
          "base_uri": "https://localhost:8080/"
        },
        "id": "oW4EB0gkLC6F",
        "outputId": "10936c7e-0fb9-47de-a641-2ceda71d522a"
      },
      "outputs": [
        {
          "output_type": "stream",
          "name": "stdout",
          "text": [
            "2.5.1+cu121\n"
          ]
        }
      ],
      "source": [
        "import torch\n",
        "import pandas as pd\n",
        "import numpy as np\n",
        "import matplotlib.pyplot as plt\n",
        "print(torch.__version__)"
      ]
    },
    {
      "cell_type": "markdown",
      "source": [
        "## Introduction to Tensors\n",
        "Creating tensors\n",
        "\n",
        "PyTorch tensors are created using torch.Tensor() = https://pytorch.org/docs/stable/tensors.html\n",
        "\n"
      ],
      "metadata": {
        "id": "NHnjwdSOMgDp"
      }
    },
    {
      "cell_type": "code",
      "source": [
        "# scalar\n",
        "scalar = torch.tensor(7)\n",
        "scalar"
      ],
      "metadata": {
        "colab": {
          "base_uri": "https://localhost:8080/"
        },
        "id": "-tjWF8nUMDF5",
        "outputId": "b4535e8e-3fe5-48c7-e7be-faacd5686056"
      },
      "execution_count": null,
      "outputs": [
        {
          "output_type": "execute_result",
          "data": {
            "text/plain": [
              "tensor(7)"
            ]
          },
          "metadata": {},
          "execution_count": 2
        }
      ]
    },
    {
      "cell_type": "code",
      "source": [
        "scalar.ndim"
      ],
      "metadata": {
        "colab": {
          "base_uri": "https://localhost:8080/"
        },
        "id": "ZVhoDWGBM5E6",
        "outputId": "e84e8f19-2025-4ab2-8031-9fdc371c4888"
      },
      "execution_count": null,
      "outputs": [
        {
          "output_type": "execute_result",
          "data": {
            "text/plain": [
              "0"
            ]
          },
          "metadata": {},
          "execution_count": 3
        }
      ]
    },
    {
      "cell_type": "code",
      "source": [
        "scalar.item()"
      ],
      "metadata": {
        "colab": {
          "base_uri": "https://localhost:8080/"
        },
        "id": "polijux8NcnT",
        "outputId": "f4be764e-f169-40cd-93c4-d8158c751c0e"
      },
      "execution_count": null,
      "outputs": [
        {
          "output_type": "execute_result",
          "data": {
            "text/plain": [
              "7"
            ]
          },
          "metadata": {},
          "execution_count": 4
        }
      ]
    },
    {
      "cell_type": "code",
      "source": [
        "# vector\n",
        "vector = torch.Tensor([7,7])\n",
        "vector"
      ],
      "metadata": {
        "colab": {
          "base_uri": "https://localhost:8080/"
        },
        "id": "WB0OQw9_Nz7V",
        "outputId": "ca1fce2d-1546-45b2-bf87-02b277519478"
      },
      "execution_count": null,
      "outputs": [
        {
          "output_type": "execute_result",
          "data": {
            "text/plain": [
              "tensor([7., 7.])"
            ]
          },
          "metadata": {},
          "execution_count": 5
        }
      ]
    },
    {
      "cell_type": "code",
      "source": [
        "vector.shape"
      ],
      "metadata": {
        "colab": {
          "base_uri": "https://localhost:8080/"
        },
        "id": "if3bfcK7OP_b",
        "outputId": "1b54b1df-e9f0-47a0-f24f-f99c383cf825"
      },
      "execution_count": null,
      "outputs": [
        {
          "output_type": "execute_result",
          "data": {
            "text/plain": [
              "torch.Size([2])"
            ]
          },
          "metadata": {},
          "execution_count": 6
        }
      ]
    },
    {
      "cell_type": "code",
      "source": [
        "# matrix\n",
        "matrix = torch.tensor([[1,3,5],[2,3,7]])\n",
        "matrix"
      ],
      "metadata": {
        "colab": {
          "base_uri": "https://localhost:8080/"
        },
        "id": "uGsQXCigOUQK",
        "outputId": "6188bf0b-c2d5-41aa-ffee-a703abeee10d"
      },
      "execution_count": null,
      "outputs": [
        {
          "output_type": "execute_result",
          "data": {
            "text/plain": [
              "tensor([[1, 3, 5],\n",
              "        [2, 3, 7]])"
            ]
          },
          "metadata": {},
          "execution_count": 7
        }
      ]
    },
    {
      "cell_type": "code",
      "source": [
        "matrix.ndim"
      ],
      "metadata": {
        "colab": {
          "base_uri": "https://localhost:8080/"
        },
        "id": "qQypc1q6OorC",
        "outputId": "37f9080e-c50f-41c0-9d1e-09a8c8c5ffb1"
      },
      "execution_count": null,
      "outputs": [
        {
          "output_type": "execute_result",
          "data": {
            "text/plain": [
              "2"
            ]
          },
          "metadata": {},
          "execution_count": 8
        }
      ]
    },
    {
      "cell_type": "code",
      "source": [
        "matrix.shape"
      ],
      "metadata": {
        "colab": {
          "base_uri": "https://localhost:8080/"
        },
        "id": "KXUpB9zmOqeS",
        "outputId": "d7817c41-6ee5-4187-b6fc-ab98b42eaff6"
      },
      "execution_count": null,
      "outputs": [
        {
          "output_type": "execute_result",
          "data": {
            "text/plain": [
              "torch.Size([2, 3])"
            ]
          },
          "metadata": {},
          "execution_count": 9
        }
      ]
    },
    {
      "cell_type": "code",
      "source": [
        "# Tensors\n",
        "t = torch.tensor([[[1,2],[1,2]],[[2,3],[5,6]]])\n",
        "t"
      ],
      "metadata": {
        "colab": {
          "base_uri": "https://localhost:8080/"
        },
        "id": "2qQ2CacHOskU",
        "outputId": "2a1252c9-bff1-4572-9c42-8440ad694a9b"
      },
      "execution_count": null,
      "outputs": [
        {
          "output_type": "execute_result",
          "data": {
            "text/plain": [
              "tensor([[[1, 2],\n",
              "         [1, 2]],\n",
              "\n",
              "        [[2, 3],\n",
              "         [5, 6]]])"
            ]
          },
          "metadata": {},
          "execution_count": 10
        }
      ]
    },
    {
      "cell_type": "code",
      "source": [
        "t.ndim"
      ],
      "metadata": {
        "colab": {
          "base_uri": "https://localhost:8080/"
        },
        "id": "uccUd0gYPSDI",
        "outputId": "e8c9942f-f8ce-42a6-bbed-74c4ce20822f"
      },
      "execution_count": null,
      "outputs": [
        {
          "output_type": "execute_result",
          "data": {
            "text/plain": [
              "3"
            ]
          },
          "metadata": {},
          "execution_count": 11
        }
      ]
    },
    {
      "cell_type": "code",
      "source": [
        "t.shape"
      ],
      "metadata": {
        "colab": {
          "base_uri": "https://localhost:8080/"
        },
        "id": "MsmsV7raPtfK",
        "outputId": "33da46f6-8111-4e17-c36e-6edb2a735ee8"
      },
      "execution_count": null,
      "outputs": [
        {
          "output_type": "execute_result",
          "data": {
            "text/plain": [
              "torch.Size([2, 2, 2])"
            ]
          },
          "metadata": {},
          "execution_count": 12
        }
      ]
    },
    {
      "cell_type": "markdown",
      "source": [
        "## Random Tensors\n",
        "Why random tensors?\n",
        "\n",
        "Randorm tensors are important because the way many neural networks learn is that they start with tensors full of random numbers and then adjust those random numbers to better represent the data\n",
        "\n",
        "start with random numbers --> look at data --> update random numbers"
      ],
      "metadata": {
        "id": "zn4ZHzISQq9Y"
      }
    },
    {
      "cell_type": "code",
      "source": [
        "# Create a random tensor of shape\n",
        "random_tensor = torch.rand(3,4)\n",
        "random_tensor"
      ],
      "metadata": {
        "colab": {
          "base_uri": "https://localhost:8080/"
        },
        "id": "DUbyCovfPuTV",
        "outputId": "47709166-5336-465e-ea30-aba439697d9f"
      },
      "execution_count": null,
      "outputs": [
        {
          "output_type": "execute_result",
          "data": {
            "text/plain": [
              "tensor([[0.8414, 0.5059, 0.0477, 0.7443],\n",
              "        [0.1038, 0.7499, 0.2700, 0.1048],\n",
              "        [0.1330, 0.5574, 0.2727, 0.5583]])"
            ]
          },
          "metadata": {},
          "execution_count": 13
        }
      ]
    },
    {
      "cell_type": "code",
      "source": [
        "random_tensor1 = torch.rand(3,2,4)\n",
        "random_tensor1"
      ],
      "metadata": {
        "colab": {
          "base_uri": "https://localhost:8080/"
        },
        "id": "NbMua_e8SA5v",
        "outputId": "817ea95d-f509-4b65-d43f-f4a8023c60d9"
      },
      "execution_count": null,
      "outputs": [
        {
          "output_type": "execute_result",
          "data": {
            "text/plain": [
              "tensor([[[0.8174, 0.5406, 0.4341, 0.5392],\n",
              "         [0.0148, 0.6446, 0.9557, 0.3579]],\n",
              "\n",
              "        [[0.0711, 0.6673, 0.1367, 0.6621],\n",
              "         [0.4680, 0.1702, 0.0444, 0.4825]],\n",
              "\n",
              "        [[0.2519, 0.9339, 0.2857, 0.4852],\n",
              "         [0.6997, 0.7090, 0.6493, 0.3425]]])"
            ]
          },
          "metadata": {},
          "execution_count": 14
        }
      ]
    },
    {
      "cell_type": "code",
      "source": [
        "random_image = torch.rand(3,244,244)\n",
        "random_image"
      ],
      "metadata": {
        "colab": {
          "base_uri": "https://localhost:8080/"
        },
        "id": "KdCXY2RqSS9O",
        "outputId": "8db7bc28-06c7-4cd3-d454-b48d43dcfb27"
      },
      "execution_count": null,
      "outputs": [
        {
          "output_type": "execute_result",
          "data": {
            "text/plain": [
              "tensor([[[0.0724, 0.4899, 0.0044,  ..., 0.5591, 0.5759, 0.2602],\n",
              "         [0.5952, 0.3535, 0.3025,  ..., 0.6324, 0.8535, 0.0122],\n",
              "         [0.3099, 0.0225, 0.7532,  ..., 0.1103, 0.0760, 0.7028],\n",
              "         ...,\n",
              "         [0.8594, 0.2276, 0.9515,  ..., 0.3223, 0.4314, 0.6217],\n",
              "         [0.7288, 0.4550, 0.4144,  ..., 0.9707, 0.1190, 0.4078],\n",
              "         [0.2463, 0.0328, 0.0294,  ..., 0.0763, 0.6341, 0.5436]],\n",
              "\n",
              "        [[0.3739, 0.8610, 0.6171,  ..., 0.6432, 0.1788, 0.9928],\n",
              "         [0.3682, 0.1592, 0.3859,  ..., 0.8431, 0.4716, 0.7555],\n",
              "         [0.1574, 0.2306, 0.7155,  ..., 0.9801, 0.7834, 0.3017],\n",
              "         ...,\n",
              "         [0.2994, 0.6233, 0.2368,  ..., 0.0309, 0.4770, 0.3162],\n",
              "         [0.1721, 0.0226, 0.7191,  ..., 0.5573, 0.2571, 0.4768],\n",
              "         [0.0877, 0.7603, 0.0836,  ..., 0.1229, 0.1033, 0.4070]],\n",
              "\n",
              "        [[0.1624, 0.0070, 0.6822,  ..., 0.4433, 0.0021, 0.0470],\n",
              "         [0.7048, 0.3913, 0.9466,  ..., 0.1312, 0.9662, 0.4362],\n",
              "         [0.7828, 0.4430, 0.3407,  ..., 0.0029, 0.2117, 0.8064],\n",
              "         ...,\n",
              "         [0.8952, 0.8441, 0.7754,  ..., 0.9111, 0.8924, 0.7130],\n",
              "         [0.1331, 0.6547, 0.8770,  ..., 0.5443, 0.5163, 0.0134],\n",
              "         [0.3432, 0.4219, 0.2399,  ..., 0.7681, 0.0108, 0.1162]]])"
            ]
          },
          "metadata": {},
          "execution_count": 15
        }
      ]
    },
    {
      "cell_type": "markdown",
      "source": [
        "## Zeros and ones"
      ],
      "metadata": {
        "id": "Yk5vKEyWTWbb"
      }
    },
    {
      "cell_type": "code",
      "source": [
        "# Creating tensor of zeros\n",
        "zeros = torch.zeros((2,3))\n",
        "zeros"
      ],
      "metadata": {
        "colab": {
          "base_uri": "https://localhost:8080/"
        },
        "id": "3ZeLCbDTS5K8",
        "outputId": "32d1fe40-e185-4d9b-9116-5d8077b2c2bd"
      },
      "execution_count": null,
      "outputs": [
        {
          "output_type": "execute_result",
          "data": {
            "text/plain": [
              "tensor([[0., 0., 0.],\n",
              "        [0., 0., 0.]])"
            ]
          },
          "metadata": {},
          "execution_count": 16
        }
      ]
    },
    {
      "cell_type": "code",
      "source": [
        "# Creating tensor of ones\n",
        "ones = torch.ones((3,4))\n",
        "ones"
      ],
      "metadata": {
        "colab": {
          "base_uri": "https://localhost:8080/"
        },
        "id": "dMKG1ns6ThU8",
        "outputId": "1fa7ad36-1ed7-4d6f-b7cf-29c83e495ad9"
      },
      "execution_count": null,
      "outputs": [
        {
          "output_type": "execute_result",
          "data": {
            "text/plain": [
              "tensor([[1., 1., 1., 1.],\n",
              "        [1., 1., 1., 1.],\n",
              "        [1., 1., 1., 1.]])"
            ]
          },
          "metadata": {},
          "execution_count": 17
        }
      ]
    },
    {
      "cell_type": "code",
      "source": [
        "ones.dtype"
      ],
      "metadata": {
        "colab": {
          "base_uri": "https://localhost:8080/"
        },
        "id": "Px3_7BwkTzq3",
        "outputId": "2c03efc4-9b7f-4d70-ffd3-365d742344ce"
      },
      "execution_count": null,
      "outputs": [
        {
          "output_type": "execute_result",
          "data": {
            "text/plain": [
              "torch.float32"
            ]
          },
          "metadata": {},
          "execution_count": 18
        }
      ]
    },
    {
      "cell_type": "code",
      "source": [
        "zeros.dtype"
      ],
      "metadata": {
        "colab": {
          "base_uri": "https://localhost:8080/"
        },
        "id": "5a_pkts-T5Er",
        "outputId": "ccb8d61b-3901-44b5-934f-60e8bf32850e"
      },
      "execution_count": null,
      "outputs": [
        {
          "output_type": "execute_result",
          "data": {
            "text/plain": [
              "torch.float32"
            ]
          },
          "metadata": {},
          "execution_count": 19
        }
      ]
    },
    {
      "cell_type": "markdown",
      "source": [
        "### Creating a range of tensors and tensors-like"
      ],
      "metadata": {
        "id": "j3J1T5iQT8Pz"
      }
    },
    {
      "cell_type": "code",
      "source": [
        "One_to_Ten = torch.arange(1,11)"
      ],
      "metadata": {
        "id": "vGt6q5YwUU7q"
      },
      "execution_count": null,
      "outputs": []
    },
    {
      "cell_type": "code",
      "source": [
        "torch.arange(1,1000,50)"
      ],
      "metadata": {
        "colab": {
          "base_uri": "https://localhost:8080/"
        },
        "id": "Ff1oQctfUhW1",
        "outputId": "bd24db2a-a54f-44e1-d434-950380af8794"
      },
      "execution_count": null,
      "outputs": [
        {
          "output_type": "execute_result",
          "data": {
            "text/plain": [
              "tensor([  1,  51, 101, 151, 201, 251, 301, 351, 401, 451, 501, 551, 601, 651,\n",
              "        701, 751, 801, 851, 901, 951])"
            ]
          },
          "metadata": {},
          "execution_count": 21
        }
      ]
    },
    {
      "cell_type": "code",
      "source": [
        "# Creating tensor like\n",
        "ten_like = torch.zeros_like(input=One_to_Ten)\n",
        "ten_like"
      ],
      "metadata": {
        "colab": {
          "base_uri": "https://localhost:8080/"
        },
        "id": "nz9f1t39Uycm",
        "outputId": "3f7dcb57-7c57-4551-b84d-026376dffedb"
      },
      "execution_count": null,
      "outputs": [
        {
          "output_type": "execute_result",
          "data": {
            "text/plain": [
              "tensor([0, 0, 0, 0, 0, 0, 0, 0, 0, 0])"
            ]
          },
          "metadata": {},
          "execution_count": 22
        }
      ]
    },
    {
      "cell_type": "markdown",
      "source": [
        "## Tensor data types\n",
        "\n",
        "Note : Tensor datatypes is one of the 3 big errors you'll run into with PyTorch & deep learning\n",
        "1. Tensors not right datatype\n",
        "2. Tensors not right shape\n",
        "3. Tensors not on the right device"
      ],
      "metadata": {
        "id": "4VltyIvNVnmj"
      }
    },
    {
      "cell_type": "code",
      "source": [
        "float_32_tensor = torch.tensor([i for i in range(1,6)],\n",
        "                               dtype = torch.float16,\n",
        "                               device = None,\n",
        "                               requires_grad= False)\n",
        "float_32_tensor"
      ],
      "metadata": {
        "colab": {
          "base_uri": "https://localhost:8080/"
        },
        "id": "D0XRzoJvWJu0",
        "outputId": "6db43948-1e16-4183-9689-f9ce9c35ec41"
      },
      "execution_count": null,
      "outputs": [
        {
          "output_type": "execute_result",
          "data": {
            "text/plain": [
              "tensor([1., 2., 3., 4., 5.], dtype=torch.float16)"
            ]
          },
          "metadata": {},
          "execution_count": 23
        }
      ]
    },
    {
      "cell_type": "code",
      "source": [
        "float_32_tensor.ndim"
      ],
      "metadata": {
        "colab": {
          "base_uri": "https://localhost:8080/"
        },
        "id": "aH9hyN35XNF6",
        "outputId": "f4059245-a8d0-4e11-d182-72acd149a375"
      },
      "execution_count": null,
      "outputs": [
        {
          "output_type": "execute_result",
          "data": {
            "text/plain": [
              "1"
            ]
          },
          "metadata": {},
          "execution_count": 24
        }
      ]
    },
    {
      "cell_type": "code",
      "source": [
        "float_32_tensor.shape"
      ],
      "metadata": {
        "colab": {
          "base_uri": "https://localhost:8080/"
        },
        "id": "YREz52dNX7Kl",
        "outputId": "898f5602-241e-4975-cbfd-4e50104f0acd"
      },
      "execution_count": null,
      "outputs": [
        {
          "output_type": "execute_result",
          "data": {
            "text/plain": [
              "torch.Size([5])"
            ]
          },
          "metadata": {},
          "execution_count": 25
        }
      ]
    },
    {
      "cell_type": "code",
      "source": [
        "float_32_tensor.dtype"
      ],
      "metadata": {
        "colab": {
          "base_uri": "https://localhost:8080/"
        },
        "id": "mckyUEDUX_IN",
        "outputId": "053350b5-8e1a-4490-a59c-b85df26f2132"
      },
      "execution_count": null,
      "outputs": [
        {
          "output_type": "execute_result",
          "data": {
            "text/plain": [
              "torch.float16"
            ]
          },
          "metadata": {},
          "execution_count": 26
        }
      ]
    },
    {
      "cell_type": "code",
      "source": [
        "int_32_tensor = torch.tensor([i for i in range(1,6)],dtype= torch.int16)\n",
        "int_16_tensor = torch.tensor([i for i in range(5,11)],dtype=torch.int16)"
      ],
      "metadata": {
        "id": "UwHsleXmYFfL"
      },
      "execution_count": null,
      "outputs": []
    },
    {
      "cell_type": "code",
      "source": [
        "print(int_16_tensor)\n",
        "print(int_32_tensor)"
      ],
      "metadata": {
        "colab": {
          "base_uri": "https://localhost:8080/"
        },
        "id": "FlMnES2ZZm3J",
        "outputId": "cb3f3721-8679-4f57-ce40-13ea85e1f841"
      },
      "execution_count": null,
      "outputs": [
        {
          "output_type": "stream",
          "name": "stdout",
          "text": [
            "tensor([ 5,  6,  7,  8,  9, 10], dtype=torch.int16)\n",
            "tensor([1, 2, 3, 4, 5], dtype=torch.int16)\n"
          ]
        }
      ]
    },
    {
      "cell_type": "code",
      "source": [
        "# find out some details about some tensor\n",
        "some_tensor = torch.rand((3,2,4))\n",
        "print(some_tensor)\n",
        "print(f\"Datatype of tensor: {some_tensor.dtype}\")\n",
        "print(f\"shape of tensor : {some_tensor.shape}\")\n",
        "print(f\"Device of tensor: {some_tensor.device}\")"
      ],
      "metadata": {
        "colab": {
          "base_uri": "https://localhost:8080/"
        },
        "id": "L_NCYQm5ZsxP",
        "outputId": "3d2cd928-2128-49cf-e58e-120f7fa19728"
      },
      "execution_count": null,
      "outputs": [
        {
          "output_type": "stream",
          "name": "stdout",
          "text": [
            "tensor([[[0.2543, 0.3388, 0.4419, 0.5660],\n",
            "         [0.5167, 0.8161, 0.7664, 0.7731]],\n",
            "\n",
            "        [[0.5712, 0.2693, 0.8945, 0.9976],\n",
            "         [0.9029, 0.8007, 0.0753, 0.8499]],\n",
            "\n",
            "        [[0.7701, 0.4208, 0.9328, 0.2730],\n",
            "         [0.0775, 0.8393, 0.2032, 0.6529]]])\n",
            "Datatype of tensor: torch.float32\n",
            "shape of tensor : torch.Size([3, 2, 4])\n",
            "Device of tensor: cpu\n"
          ]
        }
      ]
    },
    {
      "cell_type": "markdown",
      "source": [
        "### Manipulating Tensors (tensor operations)\n",
        "\n",
        "Tensor operations includes:\n",
        "* Addition\n",
        "* Subtraction\n",
        "* Multiplication (Element-wise)\n",
        "* Division\n",
        "*Matrix multiplication"
      ],
      "metadata": {
        "id": "nqIK51ORbjBg"
      }
    },
    {
      "cell_type": "code",
      "source": [
        "tensor = torch.tensor([ i for i in range(1,5)])\n",
        "tensor += 10\n",
        "tensor"
      ],
      "metadata": {
        "colab": {
          "base_uri": "https://localhost:8080/"
        },
        "id": "hFr1ngP7cTGP",
        "outputId": "80a02d6b-d8ab-4ce9-c3f8-10e31eaf1e18"
      },
      "execution_count": null,
      "outputs": [
        {
          "output_type": "execute_result",
          "data": {
            "text/plain": [
              "tensor([11, 12, 13, 14])"
            ]
          },
          "metadata": {},
          "execution_count": 30
        }
      ]
    },
    {
      "cell_type": "code",
      "source": [
        "tensor *= 10\n",
        "tensor"
      ],
      "metadata": {
        "colab": {
          "base_uri": "https://localhost:8080/"
        },
        "id": "BvS0SyUtcpn2",
        "outputId": "54e57788-e600-4c63-923f-26e91e8d3b48"
      },
      "execution_count": null,
      "outputs": [
        {
          "output_type": "execute_result",
          "data": {
            "text/plain": [
              "tensor([110, 120, 130, 140])"
            ]
          },
          "metadata": {},
          "execution_count": 31
        }
      ]
    },
    {
      "cell_type": "code",
      "source": [
        "torch.mul(tensor,10)"
      ],
      "metadata": {
        "colab": {
          "base_uri": "https://localhost:8080/"
        },
        "id": "3r6im3Lkcw49",
        "outputId": "100b2ff8-cc5b-4bcf-88c0-ab54eb3298c5"
      },
      "execution_count": null,
      "outputs": [
        {
          "output_type": "execute_result",
          "data": {
            "text/plain": [
              "tensor([1100, 1200, 1300, 1400])"
            ]
          },
          "metadata": {},
          "execution_count": 32
        }
      ]
    },
    {
      "cell_type": "code",
      "source": [
        "torch.add(tensor,52)"
      ],
      "metadata": {
        "colab": {
          "base_uri": "https://localhost:8080/"
        },
        "id": "c073msC3c8UB",
        "outputId": "3e8ae417-06bf-4df2-d0ff-4aa3f138dbdd"
      },
      "execution_count": null,
      "outputs": [
        {
          "output_type": "execute_result",
          "data": {
            "text/plain": [
              "tensor([162, 172, 182, 192])"
            ]
          },
          "metadata": {},
          "execution_count": 33
        }
      ]
    },
    {
      "cell_type": "code",
      "source": [
        "a = torch.rand((2,4))\n",
        "b = torch.rand((4,7))\n",
        "c = torch.matmul(a,b)\n"
      ],
      "metadata": {
        "id": "HZNvni9udD-4"
      },
      "execution_count": null,
      "outputs": []
    },
    {
      "cell_type": "code",
      "source": [
        "a"
      ],
      "metadata": {
        "colab": {
          "base_uri": "https://localhost:8080/"
        },
        "id": "IHE3K_fXdc7V",
        "outputId": "d62f6997-456b-4eef-9eae-82dede64dff7"
      },
      "execution_count": null,
      "outputs": [
        {
          "output_type": "execute_result",
          "data": {
            "text/plain": [
              "tensor([[0.9373, 0.7010, 0.7495, 0.7502],\n",
              "        [0.3076, 0.1822, 0.0779, 0.1842]])"
            ]
          },
          "metadata": {},
          "execution_count": 35
        }
      ]
    },
    {
      "cell_type": "code",
      "source": [
        "b"
      ],
      "metadata": {
        "colab": {
          "base_uri": "https://localhost:8080/"
        },
        "id": "moxHSpHOdk_a",
        "outputId": "4481694f-e945-48e5-8211-4b7f60d11d6c"
      },
      "execution_count": null,
      "outputs": [
        {
          "output_type": "execute_result",
          "data": {
            "text/plain": [
              "tensor([[0.8405, 0.8143, 0.5884, 0.8830, 0.7982, 0.6288, 0.6105],\n",
              "        [0.4559, 0.4140, 0.1051, 0.9773, 0.2393, 0.2237, 0.5656],\n",
              "        [0.8907, 0.6576, 0.8823, 0.4379, 0.4726, 0.9668, 0.3165],\n",
              "        [0.6641, 0.1748, 0.1396, 0.0410, 0.3277, 0.0242, 0.4425]])"
            ]
          },
          "metadata": {},
          "execution_count": 36
        }
      ]
    },
    {
      "cell_type": "code",
      "source": [
        "c"
      ],
      "metadata": {
        "colab": {
          "base_uri": "https://localhost:8080/"
        },
        "id": "5E3BUhuvdldw",
        "outputId": "0f9b15db-811f-4dbe-c00d-e1e9d7e996f9"
      },
      "execution_count": null,
      "outputs": [
        {
          "output_type": "execute_result",
          "data": {
            "text/plain": [
              "tensor([[2.2731, 1.6774, 1.3912, 1.8716, 1.5159, 1.4890, 1.5378],\n",
              "        [0.5334, 0.4094, 0.2946, 0.4914, 0.3863, 0.3140, 0.3970]])"
            ]
          },
          "metadata": {},
          "execution_count": 37
        }
      ]
    },
    {
      "cell_type": "code",
      "source": [
        "## Adjusting size for Matrix Multiplication"
      ],
      "metadata": {
        "id": "nvGiRUrhdl3f"
      },
      "execution_count": null,
      "outputs": []
    },
    {
      "cell_type": "code",
      "source": [
        "tensor_A = torch.tensor([[1,2],\n",
        "                         [2,3],\n",
        "                         [3,4]])\n",
        "tensor_B = torch.tensor([[7,8],\n",
        "                         [8,9],\n",
        "                         [6,7]])\n",
        "tensor_A.shape,tensor_B.shape\n"
      ],
      "metadata": {
        "colab": {
          "base_uri": "https://localhost:8080/"
        },
        "id": "XGBz_VzSjOyZ",
        "outputId": "f7f981cd-4280-48a5-f297-2a7076b49d16"
      },
      "execution_count": null,
      "outputs": [
        {
          "output_type": "execute_result",
          "data": {
            "text/plain": [
              "(torch.Size([3, 2]), torch.Size([3, 2]))"
            ]
          },
          "metadata": {},
          "execution_count": 39
        }
      ]
    },
    {
      "cell_type": "code",
      "source": [
        "torch.matmul(tensor_A,tensor_B)"
      ],
      "metadata": {
        "colab": {
          "base_uri": "https://localhost:8080/",
          "height": 141
        },
        "id": "erMSYqK0jxyx",
        "outputId": "15429819-29a5-4b6b-eb7c-e9af58a8ba8c"
      },
      "execution_count": null,
      "outputs": [
        {
          "output_type": "error",
          "ename": "RuntimeError",
          "evalue": "mat1 and mat2 shapes cannot be multiplied (3x2 and 3x2)",
          "traceback": [
            "\u001b[0;31m---------------------------------------------------------------------------\u001b[0m",
            "\u001b[0;31mRuntimeError\u001b[0m                              Traceback (most recent call last)",
            "\u001b[0;32m<ipython-input-40-9dde1cb2f945>\u001b[0m in \u001b[0;36m<cell line: 0>\u001b[0;34m()\u001b[0m\n\u001b[0;32m----> 1\u001b[0;31m \u001b[0mtorch\u001b[0m\u001b[0;34m.\u001b[0m\u001b[0mmatmul\u001b[0m\u001b[0;34m(\u001b[0m\u001b[0mtensor_A\u001b[0m\u001b[0;34m,\u001b[0m\u001b[0mtensor_B\u001b[0m\u001b[0;34m)\u001b[0m\u001b[0;34m\u001b[0m\u001b[0;34m\u001b[0m\u001b[0m\n\u001b[0m",
            "\u001b[0;31mRuntimeError\u001b[0m: mat1 and mat2 shapes cannot be multiplied (3x2 and 3x2)"
          ]
        }
      ]
    },
    {
      "cell_type": "markdown",
      "source": [
        "# To fix our Tensor shape , we can manipulate one of the tensors using Transpose"
      ],
      "metadata": {
        "id": "1wfej6zFkDim"
      }
    },
    {
      "cell_type": "code",
      "source": [
        "tensor_B"
      ],
      "metadata": {
        "colab": {
          "base_uri": "https://localhost:8080/"
        },
        "id": "Csowciyeki9k",
        "outputId": "9201165c-b099-4ef2-dbf4-a2d66b645178"
      },
      "execution_count": null,
      "outputs": [
        {
          "output_type": "execute_result",
          "data": {
            "text/plain": [
              "tensor([[7, 8],\n",
              "        [8, 9],\n",
              "        [6, 7]])"
            ]
          },
          "metadata": {},
          "execution_count": 42
        }
      ]
    },
    {
      "cell_type": "code",
      "source": [
        "tensor_B_T = tensor_B.T\n",
        "tensor_B_T"
      ],
      "metadata": {
        "colab": {
          "base_uri": "https://localhost:8080/"
        },
        "id": "5lkhAKD8k23Z",
        "outputId": "1fbec2f1-027c-413a-ce6b-e3a6cd4106ee"
      },
      "execution_count": null,
      "outputs": [
        {
          "output_type": "execute_result",
          "data": {
            "text/plain": [
              "tensor([[7, 8, 6],\n",
              "        [8, 9, 7]])"
            ]
          },
          "metadata": {},
          "execution_count": 43
        }
      ]
    },
    {
      "cell_type": "code",
      "source": [
        "torch.matmul(tensor_A,tensor_B.T)"
      ],
      "metadata": {
        "colab": {
          "base_uri": "https://localhost:8080/"
        },
        "id": "CGAqYGuBlVBg",
        "outputId": "441bb09a-9957-4f7b-87fc-47b924221259"
      },
      "execution_count": null,
      "outputs": [
        {
          "output_type": "execute_result",
          "data": {
            "text/plain": [
              "tensor([[23, 26, 20],\n",
              "        [38, 43, 33],\n",
              "        [53, 60, 46]])"
            ]
          },
          "metadata": {},
          "execution_count": 44
        }
      ]
    },
    {
      "cell_type": "code",
      "source": [
        "#Finding the min, max, mean, sum, etc (tensor aggregation)"
      ],
      "metadata": {
        "id": "94ZYzHM9lemG"
      },
      "execution_count": null,
      "outputs": []
    },
    {
      "cell_type": "code",
      "source": [
        "x = torch.arange(1,200,20)\n",
        "x"
      ],
      "metadata": {
        "colab": {
          "base_uri": "https://localhost:8080/"
        },
        "id": "MBgrcRrhl9CD",
        "outputId": "eae2e875-0e20-4585-96b4-44c46e472c04"
      },
      "execution_count": null,
      "outputs": [
        {
          "output_type": "execute_result",
          "data": {
            "text/plain": [
              "tensor([  1,  21,  41,  61,  81, 101, 121, 141, 161, 181])"
            ]
          },
          "metadata": {},
          "execution_count": 46
        }
      ]
    },
    {
      "cell_type": "code",
      "source": [
        "torch.min(x)\n"
      ],
      "metadata": {
        "colab": {
          "base_uri": "https://localhost:8080/"
        },
        "id": "4RN3gnfSmLL3",
        "outputId": "804b14b3-ffb0-4fcd-9f62-61e474d58e89"
      },
      "execution_count": null,
      "outputs": [
        {
          "output_type": "execute_result",
          "data": {
            "text/plain": [
              "tensor(1)"
            ]
          },
          "metadata": {},
          "execution_count": 47
        }
      ]
    },
    {
      "cell_type": "code",
      "source": [
        "torch.max(x)"
      ],
      "metadata": {
        "colab": {
          "base_uri": "https://localhost:8080/"
        },
        "id": "LHnpiLRomPx5",
        "outputId": "111a3fe8-0491-4ab8-88ac-476c419fd580"
      },
      "execution_count": null,
      "outputs": [
        {
          "output_type": "execute_result",
          "data": {
            "text/plain": [
              "tensor(181)"
            ]
          },
          "metadata": {},
          "execution_count": 48
        }
      ]
    },
    {
      "cell_type": "code",
      "source": [
        "torch.mean(x.type(torch.float32)),x.type(torch.float32).mean()\n"
      ],
      "metadata": {
        "colab": {
          "base_uri": "https://localhost:8080/"
        },
        "id": "DJcnBUnkmSDV",
        "outputId": "91a1edf2-14dd-4e85-a8b1-ca092a20f1fd"
      },
      "execution_count": null,
      "outputs": [
        {
          "output_type": "execute_result",
          "data": {
            "text/plain": [
              "(tensor(91.), tensor(91.))"
            ]
          },
          "metadata": {},
          "execution_count": 49
        }
      ]
    },
    {
      "cell_type": "code",
      "source": [
        "torch.sum(x)"
      ],
      "metadata": {
        "colab": {
          "base_uri": "https://localhost:8080/"
        },
        "id": "bmpcmyp6mU43",
        "outputId": "726649ca-1649-469d-bbbf-ab7c928ce46f"
      },
      "execution_count": null,
      "outputs": [
        {
          "output_type": "execute_result",
          "data": {
            "text/plain": [
              "tensor(910)"
            ]
          },
          "metadata": {},
          "execution_count": 50
        }
      ]
    },
    {
      "cell_type": "markdown",
      "source": [
        "## Finding the positional min and max"
      ],
      "metadata": {
        "id": "C2GblSBOngDW"
      }
    },
    {
      "cell_type": "code",
      "source": [
        "x"
      ],
      "metadata": {
        "colab": {
          "base_uri": "https://localhost:8080/"
        },
        "id": "ZZ-ngkxMdmF8",
        "outputId": "ea109dc3-f13f-48fd-ff97-7ef3999d1675"
      },
      "execution_count": null,
      "outputs": [
        {
          "output_type": "execute_result",
          "data": {
            "text/plain": [
              "tensor([  1,  21,  41,  61,  81, 101, 121, 141, 161, 181])"
            ]
          },
          "metadata": {},
          "execution_count": 51
        }
      ]
    },
    {
      "cell_type": "code",
      "source": [
        "x.argmin()"
      ],
      "metadata": {
        "colab": {
          "base_uri": "https://localhost:8080/"
        },
        "id": "K6hPDFg1dpXS",
        "outputId": "669680e7-2c97-4c37-f365-bc2186627ef4"
      },
      "execution_count": null,
      "outputs": [
        {
          "output_type": "execute_result",
          "data": {
            "text/plain": [
              "tensor(0)"
            ]
          },
          "metadata": {},
          "execution_count": 52
        }
      ]
    },
    {
      "cell_type": "code",
      "source": [
        "x.argmax()"
      ],
      "metadata": {
        "colab": {
          "base_uri": "https://localhost:8080/"
        },
        "id": "1NMDSVWrdwIF",
        "outputId": "837e4d87-1085-494d-93c4-0cdd575f90d8"
      },
      "execution_count": null,
      "outputs": [
        {
          "output_type": "execute_result",
          "data": {
            "text/plain": [
              "tensor(9)"
            ]
          },
          "metadata": {},
          "execution_count": 53
        }
      ]
    },
    {
      "cell_type": "markdown",
      "source": [
        "## Reshaping, stacking, squeezing and unsqueezing tensors\n",
        "* Reshaping - reshapes an input tensor to a defined shape\n",
        "* view - Return a view of an input tensor of certain shape but keep the same memory as the original tensor\n",
        "* Stacking - combine multiple tensors on top of each other (vstack) or side by side (hstack)\n",
        "* squeeze - removes all 1 dimensions form a Tensor\n",
        "* Unsqueeze - add a 1 dimension to a target tensor\n",
        "*permute - Return a view of the input with dimensions permuted (swapped) in a certain way\n"
      ],
      "metadata": {
        "id": "h0-geZL_dx_O"
      }
    },
    {
      "cell_type": "code",
      "source": [
        "# let's create a tensor\n",
        "x = torch.arange(1,10)\n",
        "x,x.shape"
      ],
      "metadata": {
        "colab": {
          "base_uri": "https://localhost:8080/"
        },
        "id": "7BSjQmETf2yc",
        "outputId": "8eaa5410-2fad-4928-c9bc-a58601f87ff4"
      },
      "execution_count": null,
      "outputs": [
        {
          "output_type": "execute_result",
          "data": {
            "text/plain": [
              "(tensor([1, 2, 3, 4, 5, 6, 7, 8, 9]), torch.Size([9]))"
            ]
          },
          "metadata": {},
          "execution_count": 54
        }
      ]
    },
    {
      "cell_type": "code",
      "source": [
        "# ADD an extra dimension\n",
        "x_reshaped = x.reshape(1,7)\n",
        "x_reshaped"
      ],
      "metadata": {
        "colab": {
          "base_uri": "https://localhost:8080/",
          "height": 176
        },
        "id": "IId1MqaAgGCi",
        "outputId": "0233863e-d262-43d1-f0e0-8acf5ce551e4"
      },
      "execution_count": null,
      "outputs": [
        {
          "output_type": "error",
          "ename": "RuntimeError",
          "evalue": "shape '[1, 7]' is invalid for input of size 9",
          "traceback": [
            "\u001b[0;31m---------------------------------------------------------------------------\u001b[0m",
            "\u001b[0;31mRuntimeError\u001b[0m                              Traceback (most recent call last)",
            "\u001b[0;32m<ipython-input-56-1196f3e519a3>\u001b[0m in \u001b[0;36m<cell line: 0>\u001b[0;34m()\u001b[0m\n\u001b[1;32m      1\u001b[0m \u001b[0;31m# ADD an extra dimension\u001b[0m\u001b[0;34m\u001b[0m\u001b[0;34m\u001b[0m\u001b[0m\n\u001b[0;32m----> 2\u001b[0;31m \u001b[0mx_reshaped\u001b[0m \u001b[0;34m=\u001b[0m \u001b[0mx\u001b[0m\u001b[0;34m.\u001b[0m\u001b[0mreshape\u001b[0m\u001b[0;34m(\u001b[0m\u001b[0;36m1\u001b[0m\u001b[0;34m,\u001b[0m\u001b[0;36m7\u001b[0m\u001b[0;34m)\u001b[0m\u001b[0;34m\u001b[0m\u001b[0;34m\u001b[0m\u001b[0m\n\u001b[0m\u001b[1;32m      3\u001b[0m \u001b[0mx_reshaped\u001b[0m\u001b[0;34m\u001b[0m\u001b[0;34m\u001b[0m\u001b[0m\n",
            "\u001b[0;31mRuntimeError\u001b[0m: shape '[1, 7]' is invalid for input of size 9"
          ]
        }
      ]
    },
    {
      "cell_type": "code",
      "source": [
        "# ADD an extra dimension\n",
        "x_reshaped = x.reshape(1,9)\n",
        "x_reshaped"
      ],
      "metadata": {
        "colab": {
          "base_uri": "https://localhost:8080/",
          "height": 176
        },
        "id": "M0RyA7ChgfXe",
        "outputId": "9859ae3e-8384-44af-edbd-f2d081dadc09"
      },
      "execution_count": null,
      "outputs": [
        {
          "output_type": "error",
          "ename": "RuntimeError",
          "evalue": "shape '[1, 9]' is invalid for input of size 24",
          "traceback": [
            "\u001b[0;31m---------------------------------------------------------------------------\u001b[0m",
            "\u001b[0;31mRuntimeError\u001b[0m                              Traceback (most recent call last)",
            "\u001b[0;32m<ipython-input-81-11a0c6667f0d>\u001b[0m in \u001b[0;36m<cell line: 0>\u001b[0;34m()\u001b[0m\n\u001b[1;32m      1\u001b[0m \u001b[0;31m# ADD an extra dimension\u001b[0m\u001b[0;34m\u001b[0m\u001b[0;34m\u001b[0m\u001b[0m\n\u001b[0;32m----> 2\u001b[0;31m \u001b[0mx_reshaped\u001b[0m \u001b[0;34m=\u001b[0m \u001b[0mx\u001b[0m\u001b[0;34m.\u001b[0m\u001b[0mreshape\u001b[0m\u001b[0;34m(\u001b[0m\u001b[0;36m1\u001b[0m\u001b[0;34m,\u001b[0m\u001b[0;36m9\u001b[0m\u001b[0;34m)\u001b[0m\u001b[0;34m\u001b[0m\u001b[0;34m\u001b[0m\u001b[0m\n\u001b[0m\u001b[1;32m      3\u001b[0m \u001b[0mx_reshaped\u001b[0m\u001b[0;34m\u001b[0m\u001b[0;34m\u001b[0m\u001b[0m\n",
            "\u001b[0;31mRuntimeError\u001b[0m: shape '[1, 9]' is invalid for input of size 24"
          ]
        }
      ]
    },
    {
      "cell_type": "code",
      "source": [
        "# ADD an extra dimension\n",
        "x_reshaped = x.reshape(3,3)\n",
        "x_reshaped"
      ],
      "metadata": {
        "colab": {
          "base_uri": "https://localhost:8080/",
          "height": 176
        },
        "id": "sEV1xTLOgwRc",
        "outputId": "cd3e8ac1-82ac-43c3-a35b-485b446ed671"
      },
      "execution_count": null,
      "outputs": [
        {
          "output_type": "error",
          "ename": "RuntimeError",
          "evalue": "shape '[3, 3]' is invalid for input of size 24",
          "traceback": [
            "\u001b[0;31m---------------------------------------------------------------------------\u001b[0m",
            "\u001b[0;31mRuntimeError\u001b[0m                              Traceback (most recent call last)",
            "\u001b[0;32m<ipython-input-82-963e2354a386>\u001b[0m in \u001b[0;36m<cell line: 0>\u001b[0;34m()\u001b[0m\n\u001b[1;32m      1\u001b[0m \u001b[0;31m# ADD an extra dimension\u001b[0m\u001b[0;34m\u001b[0m\u001b[0;34m\u001b[0m\u001b[0m\n\u001b[0;32m----> 2\u001b[0;31m \u001b[0mx_reshaped\u001b[0m \u001b[0;34m=\u001b[0m \u001b[0mx\u001b[0m\u001b[0;34m.\u001b[0m\u001b[0mreshape\u001b[0m\u001b[0;34m(\u001b[0m\u001b[0;36m3\u001b[0m\u001b[0;34m,\u001b[0m\u001b[0;36m3\u001b[0m\u001b[0;34m)\u001b[0m\u001b[0;34m\u001b[0m\u001b[0;34m\u001b[0m\u001b[0m\n\u001b[0m\u001b[1;32m      3\u001b[0m \u001b[0mx_reshaped\u001b[0m\u001b[0;34m\u001b[0m\u001b[0;34m\u001b[0m\u001b[0m\n",
            "\u001b[0;31mRuntimeError\u001b[0m: shape '[3, 3]' is invalid for input of size 24"
          ]
        }
      ]
    },
    {
      "cell_type": "code",
      "source": [
        "z =x.view(1,9)\n",
        "z,z.shape"
      ],
      "metadata": {
        "id": "pHFi0dxPgz4C"
      },
      "execution_count": null,
      "outputs": []
    },
    {
      "cell_type": "code",
      "source": [
        "# changing z changes x (because a view of a tensor shares the same memory as the original )\n",
        "z[:,0]=5\n",
        "z,x\n"
      ],
      "metadata": {
        "colab": {
          "base_uri": "https://localhost:8080/"
        },
        "id": "d_ls6VeXhUof",
        "outputId": "e13fe46c-5ffc-4435-c154-aff641cc8b20"
      },
      "execution_count": null,
      "outputs": [
        {
          "output_type": "execute_result",
          "data": {
            "text/plain": [
              "(tensor([[5, 2, 3, 4, 5, 6, 7, 8, 9]]),\n",
              " tensor([[[ 1,  2,  3,  4],\n",
              "          [ 5,  6,  7,  8],\n",
              "          [ 9, 10, 11, 12]],\n",
              " \n",
              "         [[13, 14, 15, 16],\n",
              "          [17, 18, 19, 20],\n",
              "          [21, 22, 23, 24]]]))"
            ]
          },
          "metadata": {},
          "execution_count": 83
        }
      ]
    },
    {
      "cell_type": "code",
      "source": [
        "# stack tensors on top of each other\n",
        "x_stacked = torch.stack([x,x,x],dim=0)\n",
        "x_stacked"
      ],
      "metadata": {
        "colab": {
          "base_uri": "https://localhost:8080/"
        },
        "id": "8IBVeHPAh1f0",
        "outputId": "e0d75d44-d09a-46d1-fcde-ba0eae97d2cf"
      },
      "execution_count": null,
      "outputs": [
        {
          "output_type": "execute_result",
          "data": {
            "text/plain": [
              "tensor([[[[ 1,  2,  3,  4],\n",
              "          [ 5,  6,  7,  8],\n",
              "          [ 9, 10, 11, 12]],\n",
              "\n",
              "         [[13, 14, 15, 16],\n",
              "          [17, 18, 19, 20],\n",
              "          [21, 22, 23, 24]]],\n",
              "\n",
              "\n",
              "        [[[ 1,  2,  3,  4],\n",
              "          [ 5,  6,  7,  8],\n",
              "          [ 9, 10, 11, 12]],\n",
              "\n",
              "         [[13, 14, 15, 16],\n",
              "          [17, 18, 19, 20],\n",
              "          [21, 22, 23, 24]]],\n",
              "\n",
              "\n",
              "        [[[ 1,  2,  3,  4],\n",
              "          [ 5,  6,  7,  8],\n",
              "          [ 9, 10, 11, 12]],\n",
              "\n",
              "         [[13, 14, 15, 16],\n",
              "          [17, 18, 19, 20],\n",
              "          [21, 22, 23, 24]]]])"
            ]
          },
          "metadata": {},
          "execution_count": 84
        }
      ]
    },
    {
      "cell_type": "code",
      "source": [
        "# torch.squeeze - removes 1 dimensions form tensor\n",
        "x = torch.zeros(2,1,2,1,2)\n",
        "x.size()"
      ],
      "metadata": {
        "colab": {
          "base_uri": "https://localhost:8080/"
        },
        "id": "2wkZVm5GiP6E",
        "outputId": "3def461a-f2b3-4a87-d8e1-2726368b511d"
      },
      "execution_count": null,
      "outputs": [
        {
          "output_type": "execute_result",
          "data": {
            "text/plain": [
              "torch.Size([2, 1, 2, 1, 2])"
            ]
          },
          "metadata": {},
          "execution_count": 85
        }
      ]
    },
    {
      "cell_type": "code",
      "source": [
        "y = torch.squeeze(x)\n",
        "y.size()"
      ],
      "metadata": {
        "colab": {
          "base_uri": "https://localhost:8080/"
        },
        "id": "VKq8tVYVi9ds",
        "outputId": "78327982-b783-441e-bca3-74f51d3d0ca9"
      },
      "execution_count": null,
      "outputs": [
        {
          "output_type": "execute_result",
          "data": {
            "text/plain": [
              "torch.Size([2, 2, 2])"
            ]
          },
          "metadata": {},
          "execution_count": 86
        }
      ]
    },
    {
      "cell_type": "code",
      "source": [
        "yy = torch.squeeze(x,0)\n",
        "yy.size()"
      ],
      "metadata": {
        "colab": {
          "base_uri": "https://localhost:8080/"
        },
        "id": "32anHQuijFqU",
        "outputId": "b93f814d-3040-4ead-eb24-a00ef375dcb8"
      },
      "execution_count": null,
      "outputs": [
        {
          "output_type": "execute_result",
          "data": {
            "text/plain": [
              "torch.Size([2, 1, 2, 1, 2])"
            ]
          },
          "metadata": {},
          "execution_count": 87
        }
      ]
    },
    {
      "cell_type": "code",
      "source": [
        "# torch.unsqueeze - adds a single dimension to a target tensor at a specific dim(dimension)\n",
        "y.unsqueeze(3)\n"
      ],
      "metadata": {
        "colab": {
          "base_uri": "https://localhost:8080/"
        },
        "id": "G65rQSuHjVeM",
        "outputId": "c0dd6d76-c108-471e-cd98-c0648c89e766"
      },
      "execution_count": null,
      "outputs": [
        {
          "output_type": "execute_result",
          "data": {
            "text/plain": [
              "tensor([[[[0.],\n",
              "          [0.]],\n",
              "\n",
              "         [[0.],\n",
              "          [0.]]],\n",
              "\n",
              "\n",
              "        [[[0.],\n",
              "          [0.]],\n",
              "\n",
              "         [[0.],\n",
              "          [0.]]]])"
            ]
          },
          "metadata": {},
          "execution_count": 88
        }
      ]
    },
    {
      "cell_type": "code",
      "source": [
        "# torch.permute - rearranges the dimensions of a target tensor in a specified order\n",
        "x_original = torch.rand(size=(224,224,3))\n",
        "\n",
        "# permute the original tensor to rearrange the axis (or dim)  order\n",
        "x_permuted = x_original.permute(2,0,1)  # shifts axis 0 -> 1, 1-> 2, 2->0\n",
        "x_permuted.shape"
      ],
      "metadata": {
        "colab": {
          "base_uri": "https://localhost:8080/"
        },
        "id": "ZxymJwp8lLen",
        "outputId": "5e6cb7a9-5990-4c7c-a8dc-796080a4c288"
      },
      "execution_count": null,
      "outputs": [
        {
          "output_type": "execute_result",
          "data": {
            "text/plain": [
              "torch.Size([3, 224, 224])"
            ]
          },
          "metadata": {},
          "execution_count": 89
        }
      ]
    },
    {
      "cell_type": "code",
      "source": [
        "x_original[0,0,0]"
      ],
      "metadata": {
        "colab": {
          "base_uri": "https://localhost:8080/"
        },
        "id": "Negtq-wampuc",
        "outputId": "654f104c-606e-4ba1-b4e8-3b1b02e0741d"
      },
      "execution_count": null,
      "outputs": [
        {
          "output_type": "execute_result",
          "data": {
            "text/plain": [
              "tensor(0.7027)"
            ]
          },
          "metadata": {},
          "execution_count": 90
        }
      ]
    },
    {
      "cell_type": "code",
      "source": [
        "x_original[0,0,0] = 999\n",
        "x_original[0,0,0],x_permuted[0,0,0]"
      ],
      "metadata": {
        "colab": {
          "base_uri": "https://localhost:8080/"
        },
        "id": "XUXHKNgPnNLd",
        "outputId": "6965ab42-471d-4491-9488-370c36380018"
      },
      "execution_count": null,
      "outputs": [
        {
          "output_type": "execute_result",
          "data": {
            "text/plain": [
              "(tensor(999.), tensor(999.))"
            ]
          },
          "metadata": {},
          "execution_count": 91
        }
      ]
    },
    {
      "cell_type": "code",
      "source": [
        "# indexing with PyTorch is similar to indexing with Numpy"
      ],
      "metadata": {
        "id": "I9RlqkiFnc20"
      },
      "execution_count": null,
      "outputs": []
    },
    {
      "cell_type": "code",
      "source": [
        "# create a tensor\n",
        "x = torch.arange(1,25).reshape(2,3,4)\n",
        "x"
      ],
      "metadata": {
        "colab": {
          "base_uri": "https://localhost:8080/"
        },
        "id": "Drwq2gpLoGuM",
        "outputId": "7c68aa9c-6092-4647-e6c0-6e0dc9ea949a"
      },
      "execution_count": null,
      "outputs": [
        {
          "output_type": "execute_result",
          "data": {
            "text/plain": [
              "tensor([[[ 1,  2,  3,  4],\n",
              "         [ 5,  6,  7,  8],\n",
              "         [ 9, 10, 11, 12]],\n",
              "\n",
              "        [[13, 14, 15, 16],\n",
              "         [17, 18, 19, 20],\n",
              "         [21, 22, 23, 24]]])"
            ]
          },
          "metadata": {},
          "execution_count": 93
        }
      ]
    },
    {
      "cell_type": "code",
      "source": [
        "x[0],x[0][0],x[0][0][0]"
      ],
      "metadata": {
        "colab": {
          "base_uri": "https://localhost:8080/"
        },
        "id": "kcDjsXbLoTgH",
        "outputId": "8adb5579-f3b3-4a46-b509-38df783b7bcd"
      },
      "execution_count": null,
      "outputs": [
        {
          "output_type": "execute_result",
          "data": {
            "text/plain": [
              "(tensor([[ 1,  2,  3,  4],\n",
              "         [ 5,  6,  7,  8],\n",
              "         [ 9, 10, 11, 12]]),\n",
              " tensor([1, 2, 3, 4]),\n",
              " tensor(1))"
            ]
          },
          "metadata": {},
          "execution_count": 94
        }
      ]
    },
    {
      "cell_type": "code",
      "source": [
        "x[0][2][2]"
      ],
      "metadata": {
        "id": "9o5Z-5_BokP_",
        "colab": {
          "base_uri": "https://localhost:8080/"
        },
        "outputId": "8f502835-1f64-42a7-95ed-33b9cf21ca30"
      },
      "execution_count": null,
      "outputs": [
        {
          "output_type": "execute_result",
          "data": {
            "text/plain": [
              "tensor(11)"
            ]
          },
          "metadata": {},
          "execution_count": 95
        }
      ]
    },
    {
      "cell_type": "code",
      "source": [
        "# you can also use \":\" to select all of a target dimesions\n",
        "x[:,0],x[:,1],x[:,2]"
      ],
      "metadata": {
        "colab": {
          "base_uri": "https://localhost:8080/"
        },
        "id": "N6AmipIrex64",
        "outputId": "565044d0-7f06-452e-fdd7-ce6c47f3447b"
      },
      "execution_count": null,
      "outputs": [
        {
          "output_type": "execute_result",
          "data": {
            "text/plain": [
              "(tensor([[ 1,  2,  3,  4],\n",
              "         [13, 14, 15, 16]]),\n",
              " tensor([[ 5,  6,  7,  8],\n",
              "         [17, 18, 19, 20]]),\n",
              " tensor([[ 9, 10, 11, 12],\n",
              "         [21, 22, 23, 24]]))"
            ]
          },
          "metadata": {},
          "execution_count": 96
        }
      ]
    },
    {
      "cell_type": "code",
      "source": [
        "# create a tensor\n",
        "x = torch.arange(1,25).reshape(2,3,4)\n",
        "x\n"
      ],
      "metadata": {
        "colab": {
          "base_uri": "https://localhost:8080/"
        },
        "id": "yzUGMYAUfDlf",
        "outputId": "0e1de02d-3e28-418b-9091-093df1a1d339"
      },
      "execution_count": null,
      "outputs": [
        {
          "output_type": "execute_result",
          "data": {
            "text/plain": [
              "tensor([[[ 1,  2,  3,  4],\n",
              "         [ 5,  6,  7,  8],\n",
              "         [ 9, 10, 11, 12]],\n",
              "\n",
              "        [[13, 14, 15, 16],\n",
              "         [17, 18, 19, 20],\n",
              "         [21, 22, 23, 24]]])"
            ]
          },
          "metadata": {},
          "execution_count": 97
        }
      ]
    },
    {
      "cell_type": "code",
      "source": [
        "x[1:,1:2,1:3]"
      ],
      "metadata": {
        "colab": {
          "base_uri": "https://localhost:8080/"
        },
        "id": "S7LmDXVfgfGY",
        "outputId": "e70c1c90-5743-4c8a-bbae-dee822459b44"
      },
      "execution_count": null,
      "outputs": [
        {
          "output_type": "execute_result",
          "data": {
            "text/plain": [
              "tensor([[[18, 19]]])"
            ]
          },
          "metadata": {},
          "execution_count": 98
        }
      ]
    },
    {
      "cell_type": "markdown",
      "source": [
        "## PyTorch tensors & NumPy\n",
        "NumPy is a popular scientific Python numerical computing library.\n",
        "And Because of this, PyTorch has functionality to interact with it.\n",
        "* Data in Numpy, want in PyTorch -> torch.from_numpy(ndarray)\n",
        "* PyTorch tensor --> NumPy --> tensor.Tensor.numpy()"
      ],
      "metadata": {
        "id": "66kyGEdBhJGZ"
      }
    },
    {
      "cell_type": "code",
      "source": [
        "# NumPy array to tensor\n",
        "import torch\n",
        "import numpy as np"
      ],
      "metadata": {
        "id": "EzQqDBmrjjbN"
      },
      "execution_count": null,
      "outputs": []
    },
    {
      "cell_type": "code",
      "source": [
        "array = np.arange(1,25).reshape(2,3,4)\n",
        "array"
      ],
      "metadata": {
        "colab": {
          "base_uri": "https://localhost:8080/"
        },
        "id": "dzPfkd1Rjvrw",
        "outputId": "df8d7496-e2c5-400b-d703-2d2f3c8b89c4"
      },
      "execution_count": null,
      "outputs": [
        {
          "output_type": "execute_result",
          "data": {
            "text/plain": [
              "array([[[ 1,  2,  3,  4],\n",
              "        [ 5,  6,  7,  8],\n",
              "        [ 9, 10, 11, 12]],\n",
              "\n",
              "       [[13, 14, 15, 16],\n",
              "        [17, 18, 19, 20],\n",
              "        [21, 22, 23, 24]]])"
            ]
          },
          "metadata": {},
          "execution_count": 100
        }
      ]
    },
    {
      "cell_type": "code",
      "source": [
        "tensor = torch.from_numpy(array)\n",
        "tensor"
      ],
      "metadata": {
        "colab": {
          "base_uri": "https://localhost:8080/"
        },
        "id": "rmgjQkVkj45q",
        "outputId": "3b7aac48-49a8-4f06-cb7e-b26b5a3a47ce"
      },
      "execution_count": null,
      "outputs": [
        {
          "output_type": "execute_result",
          "data": {
            "text/plain": [
              "tensor([[[ 1,  2,  3,  4],\n",
              "         [ 5,  6,  7,  8],\n",
              "         [ 9, 10, 11, 12]],\n",
              "\n",
              "        [[13, 14, 15, 16],\n",
              "         [17, 18, 19, 20],\n",
              "         [21, 22, 23, 24]]])"
            ]
          },
          "metadata": {},
          "execution_count": 101
        }
      ]
    },
    {
      "cell_type": "code",
      "source": [
        "array.dtype,tensor.dtype"
      ],
      "metadata": {
        "colab": {
          "base_uri": "https://localhost:8080/"
        },
        "id": "Bj-mrHUQkDZQ",
        "outputId": "830c0356-b005-49fa-add4-6388c1208c67"
      },
      "execution_count": null,
      "outputs": [
        {
          "output_type": "execute_result",
          "data": {
            "text/plain": [
              "(dtype('int64'), torch.int64)"
            ]
          },
          "metadata": {},
          "execution_count": 102
        }
      ]
    },
    {
      "cell_type": "code",
      "source": [
        "array += 1\n",
        "array,tensor"
      ],
      "metadata": {
        "colab": {
          "base_uri": "https://localhost:8080/"
        },
        "id": "1Agf53XNkLhw",
        "outputId": "2b9682e3-0009-43ff-cdf7-f1a196d27378"
      },
      "execution_count": null,
      "outputs": [
        {
          "output_type": "execute_result",
          "data": {
            "text/plain": [
              "(array([[[ 2,  3,  4,  5],\n",
              "         [ 6,  7,  8,  9],\n",
              "         [10, 11, 12, 13]],\n",
              " \n",
              "        [[14, 15, 16, 17],\n",
              "         [18, 19, 20, 21],\n",
              "         [22, 23, 24, 25]]]),\n",
              " tensor([[[ 2,  3,  4,  5],\n",
              "          [ 6,  7,  8,  9],\n",
              "          [10, 11, 12, 13]],\n",
              " \n",
              "         [[14, 15, 16, 17],\n",
              "          [18, 19, 20, 21],\n",
              "          [22, 23, 24, 25]]]))"
            ]
          },
          "metadata": {},
          "execution_count": 103
        }
      ]
    },
    {
      "cell_type": "markdown",
      "source": [
        "## Reproducibilty (trying to take random out of random)\n",
        "\n",
        "In short how a neural network learns:\n",
        "\n",
        "\n",
        "start with random numbers -> tensor operations -> update random numbers to try and make them learn from the data -> again --> again\n",
        "\n",
        "To reduce the randomness in neural networks and PyTorch comes the concept of a random seed.\n",
        "\n",
        "Essentially what the random seed does is \"flavour\" the randomness."
      ],
      "metadata": {
        "id": "ZO1pSYPBlKJs"
      }
    },
    {
      "cell_type": "code",
      "source": [
        "import torch\n",
        "\n",
        "# Create two random tensors\n",
        "\n",
        "random_tensor_A = torch.rand(3,4)\n",
        "random_tensor_B = torch.rand(3,4)\n",
        "random_tensor_A,random_tensor_B,random_tensor_A==random_tensor_B"
      ],
      "metadata": {
        "colab": {
          "base_uri": "https://localhost:8080/"
        },
        "id": "5vrK6EymsWgl",
        "outputId": "9e6a7443-ff1b-4dde-ba66-89e9bd80a736"
      },
      "execution_count": null,
      "outputs": [
        {
          "output_type": "execute_result",
          "data": {
            "text/plain": [
              "(tensor([[0.8441, 0.5691, 0.0535, 0.8512],\n",
              "         [0.1027, 0.2677, 0.4801, 0.7770],\n",
              "         [0.0570, 0.2887, 0.7754, 0.5436]]),\n",
              " tensor([[0.8371, 0.7677, 0.3976, 0.5485],\n",
              "         [0.7637, 0.6018, 0.3902, 0.7033],\n",
              "         [0.9269, 0.1221, 0.4261, 0.6182]]),\n",
              " tensor([[False, False, False, False],\n",
              "         [False, False, False, False],\n",
              "         [False, False, False, False]]))"
            ]
          },
          "metadata": {},
          "execution_count": 2
        }
      ]
    },
    {
      "cell_type": "code",
      "source": [
        "# Let's make some random but reproducible tensors\n",
        "# set the random seed\n",
        "SEED = 32\n",
        "torch.manual_seed(SEED)\n",
        "rand_A = torch.rand(3,4)\n",
        "torch.manual_seed(SEED)\n",
        "rand_B = torch.rand(3,4)\n",
        "rand_A,rand_B,rand_A == rand_B"
      ],
      "metadata": {
        "colab": {
          "base_uri": "https://localhost:8080/"
        },
        "id": "k_bIBtTysZ-2",
        "outputId": "9d5de567-bad3-464a-ca8d-bb1902b7a266"
      },
      "execution_count": null,
      "outputs": [
        {
          "output_type": "execute_result",
          "data": {
            "text/plain": [
              "(tensor([[0.8757, 0.2721, 0.4141, 0.7857],\n",
              "         [0.1130, 0.5793, 0.6481, 0.0229],\n",
              "         [0.5874, 0.3254, 0.9485, 0.5219]]),\n",
              " tensor([[0.8757, 0.2721, 0.4141, 0.7857],\n",
              "         [0.1130, 0.5793, 0.6481, 0.0229],\n",
              "         [0.5874, 0.3254, 0.9485, 0.5219]]),\n",
              " tensor([[True, True, True, True],\n",
              "         [True, True, True, True],\n",
              "         [True, True, True, True]]))"
            ]
          },
          "metadata": {},
          "execution_count": 7
        }
      ]
    },
    {
      "cell_type": "markdown",
      "source": [
        "## Running tensors and PyTorch objects on the GPU (making faster computings)\n",
        "\n",
        "\n",
        "GPUs = faster computations on numbers, thanks to CUDA + NVIDIA hardware + PyTorch working behind the scenes to make everything ."
      ],
      "metadata": {
        "id": "vdBlYU4iHp72"
      }
    },
    {
      "cell_type": "markdown",
      "source": [
        "## 1. Getting a GPU\n",
        "1. Easiest - use a Google coolab\n",
        "--> change runtime environment --> select GPU --> then OK.\n",
        "\n",
        "\n",
        "2.. # check for the GPU access wtih PyTorch\n"
      ],
      "metadata": {
        "id": "U8bFvvPKJkRJ"
      }
    },
    {
      "cell_type": "code",
      "source": [
        "import torch\n",
        "torch.cuda.is_available()"
      ],
      "metadata": {
        "colab": {
          "base_uri": "https://localhost:8080/"
        },
        "id": "pCAmNJ7GLGpy",
        "outputId": "6cc39832-1b17-4780-f889-da72e2bea3e3"
      },
      "execution_count": null,
      "outputs": [
        {
          "output_type": "execute_result",
          "data": {
            "text/plain": [
              "True"
            ]
          },
          "metadata": {},
          "execution_count": 1
        }
      ]
    },
    {
      "cell_type": "code",
      "source": [
        "# setUp device agnostic code\n",
        "device = \"cuda\" if torch.cuda.is_available() else \"cpu\"\n",
        "device"
      ],
      "metadata": {
        "colab": {
          "base_uri": "https://localhost:8080/",
          "height": 35
        },
        "id": "n9NHG51GLQY3",
        "outputId": "27dc65bc-4bad-45e7-9542-5b2d3633ccc6"
      },
      "execution_count": null,
      "outputs": [
        {
          "output_type": "execute_result",
          "data": {
            "text/plain": [
              "'cuda'"
            ],
            "application/vnd.google.colaboratory.intrinsic+json": {
              "type": "string"
            }
          },
          "metadata": {},
          "execution_count": 2
        }
      ]
    },
    {
      "cell_type": "markdown",
      "source": [
        "3. Putting tensors (and models ) on the GPU\n",
        "The reason we want our tensors/models on the GPU is because using a GPU results in faster computings.\n"
      ],
      "metadata": {
        "id": "daejfSU4LpvW"
      }
    },
    {
      "cell_type": "code",
      "source": [
        "# Create a tensor (default on the CPU)\n",
        "tensor = torch.tensor([i for i in range(1,10)]).reshape(3,3)\n",
        "tensor,tensor.device"
      ],
      "metadata": {
        "colab": {
          "base_uri": "https://localhost:8080/"
        },
        "id": "nSd0dAaVMi0G",
        "outputId": "d7d058c6-ed23-43f8-eed4-3ba4b2df6a13"
      },
      "execution_count": null,
      "outputs": [
        {
          "output_type": "execute_result",
          "data": {
            "text/plain": [
              "(tensor([[1, 2, 3],\n",
              "         [4, 5, 6],\n",
              "         [7, 8, 9]]),\n",
              " device(type='cpu'))"
            ]
          },
          "metadata": {},
          "execution_count": 5
        }
      ]
    },
    {
      "cell_type": "code",
      "source": [
        "device = \"cuda\" if torch.cuda.is_available() else \"cpu\"\n",
        "tensor_gpu = tensor.to(device)\n",
        "tensor_gpu"
      ],
      "metadata": {
        "colab": {
          "base_uri": "https://localhost:8080/"
        },
        "id": "ZWEA98RjM6NU",
        "outputId": "a6da8e5b-8a87-4ac7-fecc-2515e63ee8e1"
      },
      "execution_count": null,
      "outputs": [
        {
          "output_type": "execute_result",
          "data": {
            "text/plain": [
              "tensor([[1, 2, 3],\n",
              "        [4, 5, 6],\n",
              "        [7, 8, 9]], device='cuda:0')"
            ]
          },
          "metadata": {},
          "execution_count": 6
        }
      ]
    },
    {
      "cell_type": "code",
      "source": [
        "# Moving tensors back to the GPU, can't transform it to NumPy\n",
        "tensor_gpu.numpy()"
      ],
      "metadata": {
        "colab": {
          "base_uri": "https://localhost:8080/",
          "height": 176
        },
        "id": "g6n1HVONNfWw",
        "outputId": "c3c4b80c-eb48-4c62-9432-4c1ce33a4752"
      },
      "execution_count": null,
      "outputs": [
        {
          "output_type": "error",
          "ename": "TypeError",
          "evalue": "can't convert cuda:0 device type tensor to numpy. Use Tensor.cpu() to copy the tensor to host memory first.",
          "traceback": [
            "\u001b[0;31m---------------------------------------------------------------------------\u001b[0m",
            "\u001b[0;31mTypeError\u001b[0m                                 Traceback (most recent call last)",
            "\u001b[0;32m<ipython-input-7-39bf135ea7df>\u001b[0m in \u001b[0;36m<cell line: 0>\u001b[0;34m()\u001b[0m\n\u001b[1;32m      1\u001b[0m \u001b[0;31m# Moving tensors back to the GPU, can't transform it to NumPy\u001b[0m\u001b[0;34m\u001b[0m\u001b[0;34m\u001b[0m\u001b[0m\n\u001b[0;32m----> 2\u001b[0;31m \u001b[0mtensor_gpu\u001b[0m\u001b[0;34m.\u001b[0m\u001b[0mnumpy\u001b[0m\u001b[0;34m(\u001b[0m\u001b[0;34m)\u001b[0m\u001b[0;34m\u001b[0m\u001b[0;34m\u001b[0m\u001b[0m\n\u001b[0m",
            "\u001b[0;31mTypeError\u001b[0m: can't convert cuda:0 device type tensor to numpy. Use Tensor.cpu() to copy the tensor to host memory first."
          ]
        }
      ]
    },
    {
      "cell_type": "code",
      "source": [
        "# To fix the GPU tensor with Numpy issue, we can first set it to the CPU\n",
        "tensor_back_on_cpu = tensor_gpu.cpu().numpy()\n",
        "tensor_back_on_cpu\n"
      ],
      "metadata": {
        "colab": {
          "base_uri": "https://localhost:8080/"
        },
        "id": "dZGw-UoROBRc",
        "outputId": "970a955a-bf70-47a2-9c26-748928533f22"
      },
      "execution_count": null,
      "outputs": [
        {
          "output_type": "execute_result",
          "data": {
            "text/plain": [
              "array([[1, 2, 3],\n",
              "       [4, 5, 6],\n",
              "       [7, 8, 9]])"
            ]
          },
          "metadata": {},
          "execution_count": 8
        }
      ]
    },
    {
      "cell_type": "code",
      "source": [],
      "metadata": {
        "id": "HKHxNkvcOabQ"
      },
      "execution_count": null,
      "outputs": []
    }
  ]
}