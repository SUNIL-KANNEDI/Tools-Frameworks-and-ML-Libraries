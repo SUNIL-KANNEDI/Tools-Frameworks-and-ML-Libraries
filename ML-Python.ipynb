{
  "nbformat": 4,
  "nbformat_minor": 0,
  "metadata": {
    "colab": {
      "provenance": []
    },
    "kernelspec": {
      "name": "python3",
      "display_name": "Python 3"
    },
    "language_info": {
      "name": "python"
    }
  },
  "cells": [
    {
      "cell_type": "code",
      "execution_count": null,
      "metadata": {
        "colab": {
          "base_uri": "https://localhost:8080/"
        },
        "id": "Bp704VH_bSoK",
        "outputId": "69289a20-a480-4063-e609-f1172b822621"
      },
      "outputs": [
        {
          "output_type": "stream",
          "name": "stdout",
          "text": [
            "Enter n:9\n",
            "0\n",
            "1\n",
            "1\n",
            "2\n",
            "3\n",
            "5\n",
            "8\n",
            "13\n",
            "21\n"
          ]
        }
      ],
      "source": [
        "# fibonacci series\n",
        "n = int(input(\"Enter n:\"))\n",
        "a=0\n",
        "b=1\n",
        "for i in range(n):\n",
        "  c=a+b\n",
        "  print(a)\n",
        "  a=b\n",
        "  b=c"
      ]
    },
    {
      "cell_type": "code",
      "source": [
        "# Multiple list in single list\n",
        "#l = list(map(int,input().split()))\n",
        "l = [1,3,[4,5],6]\n",
        "res=[]\n",
        "for i in range(len(l)):\n",
        "  t=l[i]\n",
        "  if(t is list):\n",
        "    for j in range(len(t)):\n",
        "      res.append(t[j])\n",
        "  else:\n",
        "    res.append(l[i])\n",
        "print(res)\n"
      ],
      "metadata": {
        "colab": {
          "base_uri": "https://localhost:8080/"
        },
        "id": "IxQlRESZebE8",
        "outputId": "0f59c0c0-986d-4fa0-b97f-dac5e5c405a9"
      },
      "execution_count": null,
      "outputs": [
        {
          "output_type": "stream",
          "name": "stdout",
          "text": [
            "[1, 3, [4, 5], 6]\n"
          ]
        }
      ]
    },
    {
      "cell_type": "code",
      "source": [
        "# remove duplicates\n",
        "l=[2,3,4,4,4,5,2,3]\n",
        "r=[]\n",
        "for i in l:\n",
        "  if i not in r:\n",
        "    r.append(i)\n",
        "print(r)\n"
      ],
      "metadata": {
        "colab": {
          "base_uri": "https://localhost:8080/"
        },
        "id": "gmLKHlUGh8e7",
        "outputId": "9b5a3270-a020-4091-97ae-fd7c42c56886"
      },
      "execution_count": null,
      "outputs": [
        {
          "output_type": "stream",
          "name": "stdout",
          "text": [
            "[2, 3, 4, 5]\n"
          ]
        }
      ]
    },
    {
      "cell_type": "code",
      "source": [
        "l=[2,3,3,4,4,2,4]\n",
        "d=dict()\n",
        "for i in l:\n",
        "  if i not in d.keys():\n",
        "    d[i]=1\n",
        "  else:\n",
        "    d[i]=d[i]+1\n",
        "print(d)"
      ],
      "metadata": {
        "colab": {
          "base_uri": "https://localhost:8080/"
        },
        "id": "FceFAesJkRzh",
        "outputId": "d6b8fcaf-2efc-4d73-da00-9a0c1a62ee53"
      },
      "execution_count": null,
      "outputs": [
        {
          "output_type": "stream",
          "name": "stdout",
          "text": [
            "{2: 2, 3: 2, 4: 3}\n"
          ]
        }
      ]
    },
    {
      "cell_type": "code",
      "source": [
        "l=[0,0,2,4,4,0,0,0]"
      ],
      "metadata": {
        "id": "6mtnh_XWosEp"
      },
      "execution_count": null,
      "outputs": []
    },
    {
      "cell_type": "code",
      "source": [
        "count = list(filter(lambda x: x==4,l ))\n",
        "count"
      ],
      "metadata": {
        "colab": {
          "base_uri": "https://localhost:8080/"
        },
        "id": "NQpBTCBrlH1H",
        "outputId": "918e43f8-906f-4e3d-b55a-45e24c122f8e"
      },
      "execution_count": null,
      "outputs": [
        {
          "output_type": "execute_result",
          "data": {
            "text/plain": [
              "[4, 4, 4]"
            ]
          },
          "metadata": {},
          "execution_count": 30
        }
      ]
    },
    {
      "cell_type": "code",
      "source": [
        "l=[1,0,1,1,0,0,0]\n",
        "occ = list(map(lambdax : x if x==0 else 0,l))\n",
        "occ"
      ],
      "metadata": {
        "colab": {
          "base_uri": "https://localhost:8080/"
        },
        "id": "jm1BLPe2mJCq",
        "outputId": "0a95ca54-ef92-4b41-98f1-a42d051feba7"
      },
      "execution_count": null,
      "outputs": [
        {
          "output_type": "execute_result",
          "data": {
            "text/plain": [
              "[0, 1, 0, 0, 1, 1, 1]"
            ]
          },
          "metadata": {},
          "execution_count": 34
        }
      ]
    },
    {
      "cell_type": "code",
      "source": [
        "file = open(\"/content/input (1).txt\",'r')\n",
        "file"
      ],
      "metadata": {
        "colab": {
          "base_uri": "https://localhost:8080/"
        },
        "id": "PRCFvz9tmJ6Q",
        "outputId": "a72909c7-bf57-4584-c25f-0cf82c0099c8"
      },
      "execution_count": null,
      "outputs": [
        {
          "output_type": "execute_result",
          "data": {
            "text/plain": [
              "<_io.TextIOWrapper name='/content/input (1).txt' mode='r' encoding='UTF-8'>"
            ]
          },
          "metadata": {},
          "execution_count": 43
        }
      ]
    },
    {
      "cell_type": "code",
      "source": [
        "content = file.read()"
      ],
      "metadata": {
        "id": "-l7LB0UvsPOV"
      },
      "execution_count": null,
      "outputs": []
    },
    {
      "cell_type": "code",
      "source": [
        "content"
      ],
      "metadata": {
        "colab": {
          "base_uri": "https://localhost:8080/",
          "height": 35
        },
        "id": "By1cdf1bs4ds",
        "outputId": "c1480d1d-d617-413e-88a4-bec686b13fcd"
      },
      "execution_count": null,
      "outputs": [
        {
          "output_type": "execute_result",
          "data": {
            "text/plain": [
              "'this is ml lab.\\nml is future.'"
            ],
            "application/vnd.google.colaboratory.intrinsic+json": {
              "type": "string"
            }
          },
          "metadata": {},
          "execution_count": 45
        }
      ]
    },
    {
      "cell_type": "code",
      "source": [
        "text = content.split('\\n')\n",
        "text"
      ],
      "metadata": {
        "colab": {
          "base_uri": "https://localhost:8080/"
        },
        "id": "UasAjc6Ss6EL",
        "outputId": "9368cea0-cfe5-4dbd-8d17-13c71a7735c1"
      },
      "execution_count": null,
      "outputs": [
        {
          "output_type": "execute_result",
          "data": {
            "text/plain": [
              "['this is ml lab.', 'ml is future.']"
            ]
          },
          "metadata": {},
          "execution_count": 46
        }
      ]
    },
    {
      "cell_type": "code",
      "source": [],
      "metadata": {
        "id": "ORN2McFEBjm2"
      },
      "execution_count": null,
      "outputs": []
    },
    {
      "cell_type": "code",
      "source": [
        "words = []\n",
        "for i in text:\n",
        "  word = i.split( )\n",
        "  words.extend(word)\n",
        "words"
      ],
      "metadata": {
        "colab": {
          "base_uri": "https://localhost:8080/"
        },
        "id": "xHp-Pf3MtW9Q",
        "outputId": "aa30685a-97f4-457c-c39b-9d5549778b57"
      },
      "execution_count": null,
      "outputs": [
        {
          "output_type": "execute_result",
          "data": {
            "text/plain": [
              "['this', 'is', 'ml', 'lab.', 'ml', 'is', 'future.']"
            ]
          },
          "metadata": {},
          "execution_count": 47
        }
      ]
    },
    {
      "cell_type": "code",
      "source": [
        "uniword = set(words)\n",
        "occ = dict()\n",
        "for i in uniword:\n",
        "  occ[i]=words.count(i)\n",
        "occ"
      ],
      "metadata": {
        "colab": {
          "base_uri": "https://localhost:8080/"
        },
        "id": "aSU0PLLwtzwZ",
        "outputId": "5503d4e4-9b76-40b8-f597-bc7200d0382c"
      },
      "execution_count": null,
      "outputs": [
        {
          "output_type": "execute_result",
          "data": {
            "text/plain": [
              "{'is': 2, 'future.': 1, 'this': 1, 'ml': 2, 'lab.': 1}"
            ]
          },
          "metadata": {},
          "execution_count": 49
        }
      ]
    },
    {
      "cell_type": "code",
      "source": [
        "# anagram\n",
        "a=\"secure\"\n",
        "b=\"rescue\"\n",
        "a=''.join(sorted(a))\n",
        "b=''.join(sorted(b))\n",
        "a,b\n",
        "if a==b:\n",
        "  print(\"yes\")\n",
        "else:\n",
        "  print(\"No\")"
      ],
      "metadata": {
        "colab": {
          "base_uri": "https://localhost:8080/"
        },
        "id": "MprPqq-ft9op",
        "outputId": "cd016c93-4e89-44f5-a6fe-12c9b70898da"
      },
      "execution_count": null,
      "outputs": [
        {
          "output_type": "stream",
          "name": "stdout",
          "text": [
            "yes\n"
          ]
        }
      ]
    },
    {
      "cell_type": "code",
      "source": [
        "import numpy as np"
      ],
      "metadata": {
        "id": "X1g5ABWS1AIf"
      },
      "execution_count": null,
      "outputs": []
    },
    {
      "cell_type": "code",
      "source": [
        "import random"
      ],
      "metadata": {
        "id": "2ITmMQAu3HPF"
      },
      "execution_count": null,
      "outputs": []
    },
    {
      "cell_type": "code",
      "source": [
        "n= int(input(\"Enter n:\"))\n",
        "arr = np.array([[random.randint(1,10) for i in range(n)]for i in range(n)])\n",
        "arr"
      ],
      "metadata": {
        "colab": {
          "base_uri": "https://localhost:8080/"
        },
        "id": "z8DrIYAq3loY",
        "outputId": "e6dcee1a-d479-48dd-f3c5-86afb7cd7bee"
      },
      "execution_count": null,
      "outputs": [
        {
          "name": "stdout",
          "output_type": "stream",
          "text": [
            "Enter n:5\n"
          ]
        },
        {
          "output_type": "execute_result",
          "data": {
            "text/plain": [
              "array([[ 7,  5,  9,  1,  1],\n",
              "       [ 8,  2,  8, 10,  6],\n",
              "       [ 1,  2,  9,  3,  9],\n",
              "       [ 6, 10,  8,  4,  1],\n",
              "       [ 4,  8,  4,  1,  5]])"
            ]
          },
          "metadata": {},
          "execution_count": 65
        }
      ]
    },
    {
      "cell_type": "code",
      "source": [
        "arr.shape"
      ],
      "metadata": {
        "colab": {
          "base_uri": "https://localhost:8080/"
        },
        "id": "otgRBbWl5YUt",
        "outputId": "dda96761-066d-4988-cce2-582c510a4614"
      },
      "execution_count": null,
      "outputs": [
        {
          "output_type": "execute_result",
          "data": {
            "text/plain": [
              "(5, 5)"
            ]
          },
          "metadata": {},
          "execution_count": 66
        }
      ]
    },
    {
      "cell_type": "code",
      "source": [
        "for i in range(n):\n",
        "  print(arr[i][i])\n"
      ],
      "metadata": {
        "colab": {
          "base_uri": "https://localhost:8080/"
        },
        "id": "h7dBruGN4yVo",
        "outputId": "0656920e-a5e6-4f08-def4-584c343b2a65"
      },
      "execution_count": null,
      "outputs": [
        {
          "output_type": "stream",
          "name": "stdout",
          "text": [
            "7\n",
            "2\n",
            "9\n",
            "4\n",
            "5\n"
          ]
        }
      ]
    },
    {
      "cell_type": "code",
      "source": [
        "# wrong\n",
        "diagonal = list(filter(lambda x : arr[i][i] , [i for i in range(n)]))\n",
        "diagonal"
      ],
      "metadata": {
        "colab": {
          "base_uri": "https://localhost:8080/",
          "height": 106
        },
        "id": "5DAKhkIx5UUY",
        "outputId": "c378a583-6c6c-4205-9354-dc2a14cb6d3f"
      },
      "execution_count": null,
      "outputs": [
        {
          "output_type": "error",
          "ename": "SyntaxError",
          "evalue": "invalid syntax. Perhaps you forgot a comma? (<ipython-input-76-8164c080172e>, line 2)",
          "traceback": [
            "\u001b[0;36m  File \u001b[0;32m\"<ipython-input-76-8164c080172e>\"\u001b[0;36m, line \u001b[0;32m2\u001b[0m\n\u001b[0;31m    diagonal = list(filter(lambda x : arr[i][i] [i for i in range(n)]))\u001b[0m\n\u001b[0m                                      ^\u001b[0m\n\u001b[0;31mSyntaxError\u001b[0m\u001b[0;31m:\u001b[0m invalid syntax. Perhaps you forgot a comma?\n"
          ]
        }
      ]
    },
    {
      "cell_type": "code",
      "source": [
        "# array board casting\n",
        "n= int(input(\"Enter n:\"))\n",
        "arr1 = np.array([[random.randint(1,10) for i in range(n)]for i in range(n)])\n",
        "arr2 = np.array([random.randint(1,10) for i in range(n)])\n",
        "arr1,arr2"
      ],
      "metadata": {
        "colab": {
          "base_uri": "https://localhost:8080/"
        },
        "id": "kjEmev5m7Wt5",
        "outputId": "4fd0cc03-4f04-45df-8bf6-6071fe96e96b"
      },
      "execution_count": null,
      "outputs": [
        {
          "name": "stdout",
          "output_type": "stream",
          "text": [
            "Enter n:3\n"
          ]
        },
        {
          "output_type": "execute_result",
          "data": {
            "text/plain": [
              "(array([[ 4,  4, 10],\n",
              "        [ 5,  7,  3],\n",
              "        [ 5,  2,  4]]),\n",
              " array([7, 1, 2]))"
            ]
          },
          "metadata": {},
          "execution_count": 72
        }
      ]
    },
    {
      "cell_type": "code",
      "source": [],
      "metadata": {
        "colab": {
          "base_uri": "https://localhost:8080/",
          "height": 321
        },
        "id": "PfFApF_289S7",
        "outputId": "c948bf53-429c-4cc3-9bf4-94ec25a85dc6"
      },
      "execution_count": null,
      "outputs": [
        {
          "output_type": "error",
          "ename": "TypeError",
          "evalue": "only integer scalar arrays can be converted to a scalar index",
          "traceback": [
            "\u001b[0;31m---------------------------------------------------------------------------\u001b[0m",
            "\u001b[0;31mTypeError\u001b[0m                                 Traceback (most recent call last)",
            "\u001b[0;32m<ipython-input-75-585751007e5c>\u001b[0m in \u001b[0;36m<cell line: 0>\u001b[0;34m()\u001b[0m\n\u001b[0;32m----> 1\u001b[0;31m \u001b[0mres\u001b[0m \u001b[0;34m=\u001b[0m \u001b[0mnp\u001b[0m\u001b[0;34m.\u001b[0m\u001b[0msum\u001b[0m\u001b[0;34m(\u001b[0m\u001b[0marr1\u001b[0m\u001b[0;34m,\u001b[0m\u001b[0marr1\u001b[0m\u001b[0;34m)\u001b[0m\u001b[0;34m\u001b[0m\u001b[0;34m\u001b[0m\u001b[0m\n\u001b[0m\u001b[1;32m      2\u001b[0m \u001b[0mres\u001b[0m\u001b[0;34m\u001b[0m\u001b[0;34m\u001b[0m\u001b[0m\n",
            "\u001b[0;32m/usr/local/lib/python3.11/dist-packages/numpy/core/fromnumeric.py\u001b[0m in \u001b[0;36msum\u001b[0;34m(a, axis, dtype, out, keepdims, initial, where)\u001b[0m\n\u001b[1;32m   2311\u001b[0m         \u001b[0;32mreturn\u001b[0m \u001b[0mres\u001b[0m\u001b[0;34m\u001b[0m\u001b[0;34m\u001b[0m\u001b[0m\n\u001b[1;32m   2312\u001b[0m \u001b[0;34m\u001b[0m\u001b[0m\n\u001b[0;32m-> 2313\u001b[0;31m     return _wrapreduction(a, np.add, 'sum', axis, dtype, out, keepdims=keepdims,\n\u001b[0m\u001b[1;32m   2314\u001b[0m                           initial=initial, where=where)\n\u001b[1;32m   2315\u001b[0m \u001b[0;34m\u001b[0m\u001b[0m\n",
            "\u001b[0;32m/usr/local/lib/python3.11/dist-packages/numpy/core/fromnumeric.py\u001b[0m in \u001b[0;36m_wrapreduction\u001b[0;34m(obj, ufunc, method, axis, dtype, out, **kwargs)\u001b[0m\n\u001b[1;32m     86\u001b[0m                 \u001b[0;32mreturn\u001b[0m \u001b[0mreduction\u001b[0m\u001b[0;34m(\u001b[0m\u001b[0maxis\u001b[0m\u001b[0;34m=\u001b[0m\u001b[0maxis\u001b[0m\u001b[0;34m,\u001b[0m \u001b[0mout\u001b[0m\u001b[0;34m=\u001b[0m\u001b[0mout\u001b[0m\u001b[0;34m,\u001b[0m \u001b[0;34m**\u001b[0m\u001b[0mpasskwargs\u001b[0m\u001b[0;34m)\u001b[0m\u001b[0;34m\u001b[0m\u001b[0;34m\u001b[0m\u001b[0m\n\u001b[1;32m     87\u001b[0m \u001b[0;34m\u001b[0m\u001b[0m\n\u001b[0;32m---> 88\u001b[0;31m     \u001b[0;32mreturn\u001b[0m \u001b[0mufunc\u001b[0m\u001b[0;34m.\u001b[0m\u001b[0mreduce\u001b[0m\u001b[0;34m(\u001b[0m\u001b[0mobj\u001b[0m\u001b[0;34m,\u001b[0m \u001b[0maxis\u001b[0m\u001b[0;34m,\u001b[0m \u001b[0mdtype\u001b[0m\u001b[0;34m,\u001b[0m \u001b[0mout\u001b[0m\u001b[0;34m,\u001b[0m \u001b[0;34m**\u001b[0m\u001b[0mpasskwargs\u001b[0m\u001b[0;34m)\u001b[0m\u001b[0;34m\u001b[0m\u001b[0;34m\u001b[0m\u001b[0m\n\u001b[0m\u001b[1;32m     89\u001b[0m \u001b[0;34m\u001b[0m\u001b[0m\n\u001b[1;32m     90\u001b[0m \u001b[0;34m\u001b[0m\u001b[0m\n",
            "\u001b[0;31mTypeError\u001b[0m: only integer scalar arrays can be converted to a scalar index"
          ]
        }
      ]
    },
    {
      "cell_type": "code",
      "source": [
        "n= int(input(\"Enter n:\"))\n",
        "arr1 = np.array([[random.randint(1,10) for i in range(n)]for i in range(n)])\n"
      ],
      "metadata": {
        "colab": {
          "base_uri": "https://localhost:8080/"
        },
        "id": "HS30kkWs9OcH",
        "outputId": "677f2b17-6693-4157-ead5-e9a40fdf8d9c"
      },
      "execution_count": null,
      "outputs": [
        {
          "name": "stdout",
          "output_type": "stream",
          "text": [
            "Enter n:6\n"
          ]
        }
      ]
    },
    {
      "cell_type": "code",
      "source": [
        "arr1\n"
      ],
      "metadata": {
        "colab": {
          "base_uri": "https://localhost:8080/"
        },
        "id": "3qkQ8ooZ-2Q7",
        "outputId": "fff4f5db-c763-4a00-84a5-591a2363f4ce"
      },
      "execution_count": null,
      "outputs": [
        {
          "output_type": "execute_result",
          "data": {
            "text/plain": [
              "array([[ 8,  7,  5,  7,  4,  7],\n",
              "       [ 4,  9,  4,  3,  6,  9],\n",
              "       [ 9,  8,  1,  9,  1,  3],\n",
              "       [ 2,  7,  3,  7,  1, 10],\n",
              "       [10,  2,  9,  7,  4, 10],\n",
              "       [ 8, 10, 10,  9,  3,  4]])"
            ]
          },
          "metadata": {},
          "execution_count": 78
        }
      ]
    },
    {
      "cell_type": "code",
      "source": [
        "arr1.shape[0]"
      ],
      "metadata": {
        "colab": {
          "base_uri": "https://localhost:8080/"
        },
        "id": "5VZWjJ6w-5rv",
        "outputId": "d7328982-12b2-4a64-b810-8c461464d3c9"
      },
      "execution_count": null,
      "outputs": [
        {
          "output_type": "execute_result",
          "data": {
            "text/plain": [
              "6"
            ]
          },
          "metadata": {},
          "execution_count": 81
        }
      ]
    },
    {
      "cell_type": "code",
      "source": [
        "kernel = arr1[2:arr1.shape[0]-2]\n",
        "kernel"
      ],
      "metadata": {
        "colab": {
          "base_uri": "https://localhost:8080/"
        },
        "id": "pK5ZFE3z_Hnp",
        "outputId": "932db6b5-a443-471d-f64d-b5ac87938dda"
      },
      "execution_count": null,
      "outputs": [
        {
          "output_type": "execute_result",
          "data": {
            "text/plain": [
              "array([[ 9,  8,  1,  9,  1,  3],\n",
              "       [ 2,  7,  3,  7,  1, 10]])"
            ]
          },
          "metadata": {},
          "execution_count": 86
        }
      ]
    },
    {
      "cell_type": "code",
      "source": [],
      "metadata": {
        "id": "ESbXXUfx_fs1"
      },
      "execution_count": null,
      "outputs": []
    }
  ]
}