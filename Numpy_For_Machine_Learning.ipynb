{
  "nbformat": 4,
  "nbformat_minor": 0,
  "metadata": {
    "colab": {
      "provenance": []
    },
    "kernelspec": {
      "name": "python3",
      "display_name": "Python 3"
    },
    "language_info": {
      "name": "python"
    }
  },
  "cells": [
    {
      "cell_type": "code",
      "execution_count": null,
      "metadata": {
        "id": "nMGHTe9QX_Xm"
      },
      "outputs": [],
      "source": [
        "import numpy as np"
      ]
    },
    {
      "cell_type": "code",
      "source": [
        "np.random.seed(seed = 1234)"
      ],
      "metadata": {
        "id": "y8H3MAl1YRKe"
      },
      "execution_count": null,
      "outputs": []
    },
    {
      "cell_type": "code",
      "source": [
        "x = np.array(6)\n",
        "print(\"x :\",x)\n",
        "print(\"x ndim:\",x.ndim)\n",
        "print(\"x shape:\",x.shape)\n",
        "print(\"x size:\",x.size)\n",
        "print(\"x dtype:\",x.dtype)\n"
      ],
      "metadata": {
        "colab": {
          "base_uri": "https://localhost:8080/"
        },
        "id": "OJ1cdEktYddi",
        "outputId": "868ef164-91f0-4f27-c7ca-b25d16da8d25"
      },
      "execution_count": null,
      "outputs": [
        {
          "output_type": "stream",
          "name": "stdout",
          "text": [
            "x : 6\n",
            "x ndim: 0\n",
            "x shape: ()\n",
            "x size: 1\n",
            "x dtype: int64\n"
          ]
        }
      ]
    },
    {
      "cell_type": "code",
      "source": [
        "x = np.array([i for i in range(1,11)])\n",
        "print(\"x :\",x)\n",
        "print(\"x ndim:\",x.ndim)\n",
        "print(\"x shape:\",x.shape)\n",
        "print(\"x size:\",x.size)\n",
        "print(\"x dtype:\",x.dtype)"
      ],
      "metadata": {
        "colab": {
          "base_uri": "https://localhost:8080/"
        },
        "id": "GC_ZsycaYnoo",
        "outputId": "a48eba6f-82e3-4087-876a-9af2b265fb26"
      },
      "execution_count": null,
      "outputs": [
        {
          "output_type": "stream",
          "name": "stdout",
          "text": [
            "x : [ 1  2  3  4  5  6  7  8  9 10]\n",
            "x ndim: 1\n",
            "x shape: (10,)\n",
            "x size: 10\n",
            "x dtype: int64\n"
          ]
        }
      ]
    },
    {
      "cell_type": "code",
      "source": [
        "d = [[i for i in range(1,5)] for j in range(5,9)]\n",
        "x = np.array(d)\n",
        "print(\"x :\",x)\n",
        "print(\"x ndim:\",x.ndim)\n",
        "print(\"x shape:\",x.shape)\n",
        "print(\"x size:\",x.size)\n",
        "print(\"x dtype:\",x.dtype)"
      ],
      "metadata": {
        "colab": {
          "base_uri": "https://localhost:8080/"
        },
        "id": "YYk9ybtubVkQ",
        "outputId": "f1976adb-6701-4b04-d28c-8dc635835363"
      },
      "execution_count": null,
      "outputs": [
        {
          "output_type": "stream",
          "name": "stdout",
          "text": [
            "x : [[1 2 3 4]\n",
            " [1 2 3 4]\n",
            " [1 2 3 4]\n",
            " [1 2 3 4]]\n",
            "x ndim: 2\n",
            "x shape: (4, 4)\n",
            "x size: 16\n",
            "x dtype: int64\n"
          ]
        }
      ]
    },
    {
      "cell_type": "code",
      "source": [
        "import random as rd\n",
        "d2 = [[rd.randint(1,9) for i in range(3)] for j in range(5)]\n",
        "x = np.array(d2)\n",
        "print(\"x :\",x)\n",
        "print(\"x ndim:\",x.ndim)\n",
        "print(\"x shape:\",x.shape)\n",
        "print(\"x size:\",x.size)\n",
        "print(\"x dtype:\",x.dtype)"
      ],
      "metadata": {
        "colab": {
          "base_uri": "https://localhost:8080/"
        },
        "id": "hkE0nMvIcTrg",
        "outputId": "bf89a87e-b06d-428d-8c3b-21c7fd2e296e"
      },
      "execution_count": null,
      "outputs": [
        {
          "output_type": "stream",
          "name": "stdout",
          "text": [
            "x : [[3 2 5]\n",
            " [6 4 3]\n",
            " [3 4 4]\n",
            " [4 8 6]\n",
            " [3 3 7]]\n",
            "x ndim: 2\n",
            "x shape: (5, 3)\n",
            "x size: 15\n",
            "x dtype: int64\n"
          ]
        }
      ]
    },
    {
      "cell_type": "code",
      "source": [
        "d3 = [[[rd.randint(1,9) for i in range(3)] for j in range(4)] for k in range(5)]\n",
        "x = np.array(d3)\n",
        "print(\"x :\",x)\n",
        "print(\"x ndim:\",x.ndim)\n",
        "print(\"x shape:\",x.shape)\n",
        "print(\"x size:\",x.size)\n",
        "print(\"x dtype:\",x.dtype)"
      ],
      "metadata": {
        "colab": {
          "base_uri": "https://localhost:8080/"
        },
        "id": "cl9c8ts0fa2A",
        "outputId": "0511bf3d-6ba9-431e-967f-f9b155454d4f"
      },
      "execution_count": null,
      "outputs": [
        {
          "output_type": "stream",
          "name": "stdout",
          "text": [
            "x : [[[7 3 8]\n",
            "  [8 3 2]\n",
            "  [3 6 3]\n",
            "  [7 2 5]]\n",
            "\n",
            " [[8 4 6]\n",
            "  [2 1 3]\n",
            "  [5 6 4]\n",
            "  [6 9 3]]\n",
            "\n",
            " [[4 6 1]\n",
            "  [9 1 3]\n",
            "  [7 4 4]\n",
            "  [1 6 3]]\n",
            "\n",
            " [[4 8 5]\n",
            "  [4 8 1]\n",
            "  [8 2 6]\n",
            "  [9 7 2]]\n",
            "\n",
            " [[6 7 8]\n",
            "  [7 1 4]\n",
            "  [3 4 1]\n",
            "  [4 1 3]]]\n",
            "x ndim: 3\n",
            "x shape: (5, 4, 3)\n",
            "x size: 60\n",
            "x dtype: int64\n"
          ]
        }
      ]
    },
    {
      "cell_type": "code",
      "source": [
        "x = np.zeros(5)\n",
        "print(\"1d:\",x)\n",
        "y = np.zeros((2,3))\n",
        "print(\"2d:\",y)\n",
        "z = np.zeros((2,3,5)) # 3 rows 5 cols of 2 sets\n",
        "print(\"3d:\",z)"
      ],
      "metadata": {
        "colab": {
          "base_uri": "https://localhost:8080/"
        },
        "id": "7_s0qic8gDEx",
        "outputId": "bb015443-9157-4541-89fd-125cf71116b8"
      },
      "execution_count": null,
      "outputs": [
        {
          "output_type": "stream",
          "name": "stdout",
          "text": [
            "1d: [0. 0. 0. 0. 0.]\n",
            "2d: [[0. 0. 0.]\n",
            " [0. 0. 0.]]\n",
            "3d: [[[0. 0. 0. 0. 0.]\n",
            "  [0. 0. 0. 0. 0.]\n",
            "  [0. 0. 0. 0. 0.]]\n",
            "\n",
            " [[0. 0. 0. 0. 0.]\n",
            "  [0. 0. 0. 0. 0.]\n",
            "  [0. 0. 0. 0. 0.]]]\n"
          ]
        }
      ]
    },
    {
      "cell_type": "code",
      "source": [
        "x = np.ones(5)\n",
        "print(\"1d:\",x)\n",
        "y = np.ones((2,3))\n",
        "print(\"2d:\",y)\n",
        "z = np.ones((2,3,5)) # 3 rows 5 cols of 2 sets\n",
        "print(\"3d:\",z)"
      ],
      "metadata": {
        "colab": {
          "base_uri": "https://localhost:8080/"
        },
        "id": "R-oP4pK0hdJG",
        "outputId": "b07d5116-9a9c-4160-952f-3291b9beecd8"
      },
      "execution_count": null,
      "outputs": [
        {
          "output_type": "stream",
          "name": "stdout",
          "text": [
            "1d: [1. 1. 1. 1. 1.]\n",
            "2d: [[1. 1. 1.]\n",
            " [1. 1. 1.]]\n",
            "3d: [[[1. 1. 1. 1. 1.]\n",
            "  [1. 1. 1. 1. 1.]\n",
            "  [1. 1. 1. 1. 1.]]\n",
            "\n",
            " [[1. 1. 1. 1. 1.]\n",
            "  [1. 1. 1. 1. 1.]\n",
            "  [1. 1. 1. 1. 1.]]]\n"
          ]
        }
      ]
    },
    {
      "cell_type": "code",
      "source": [
        "x = np.eye(5)\n",
        "print(\"1d:\",x)"
      ],
      "metadata": {
        "colab": {
          "base_uri": "https://localhost:8080/"
        },
        "id": "0oXK64jhhofd",
        "outputId": "9720f68d-235e-4648-a269-298e37460d63"
      },
      "execution_count": null,
      "outputs": [
        {
          "output_type": "stream",
          "name": "stdout",
          "text": [
            "1d: [[1. 0. 0. 0. 0.]\n",
            " [0. 1. 0. 0. 0.]\n",
            " [0. 0. 1. 0. 0.]\n",
            " [0. 0. 0. 1. 0.]\n",
            " [0. 0. 0. 0. 1.]]\n"
          ]
        }
      ]
    },
    {
      "cell_type": "code",
      "source": [
        "x = np.random.random((2,3))\n",
        "print(\"1d:\",x)\n",
        "y = np.random.random((2,3,5))\n",
        "print(\"nd:\",y)"
      ],
      "metadata": {
        "colab": {
          "base_uri": "https://localhost:8080/"
        },
        "id": "3GNuguuth4-7",
        "outputId": "daaf3d5e-b89f-4002-cb9f-21d31d728afe"
      },
      "execution_count": null,
      "outputs": [
        {
          "output_type": "stream",
          "name": "stdout",
          "text": [
            "1d: [[0.19151945 0.62210877 0.43772774]\n",
            " [0.78535858 0.77997581 0.27259261]]\n",
            "nd: [[[0.27646426 0.80187218 0.95813935 0.87593263 0.35781727]\n",
            "  [0.50099513 0.68346294 0.71270203 0.37025075 0.56119619]\n",
            "  [0.50308317 0.01376845 0.77282662 0.88264119 0.36488598]]\n",
            "\n",
            " [[0.61539618 0.07538124 0.36882401 0.9331401  0.65137814]\n",
            "  [0.39720258 0.78873014 0.31683612 0.56809865 0.86912739]\n",
            "  [0.43617342 0.80214764 0.14376682 0.70426097 0.70458131]]]\n"
          ]
        }
      ]
    },
    {
      "cell_type": "markdown",
      "source": [
        "# Indexing"
      ],
      "metadata": {
        "id": "rUhDZge0i44C"
      }
    },
    {
      "cell_type": "code",
      "source": [
        "data = [[rd.randint(1,9) for i in range(3)] for j in range(3)]\n",
        "data = np.array(data)\n",
        "data"
      ],
      "metadata": {
        "colab": {
          "base_uri": "https://localhost:8080/"
        },
        "id": "gLmx3e7yi82p",
        "outputId": "76984dc2-59b6-426e-ee03-a9b3c59eac4a"
      },
      "execution_count": null,
      "outputs": [
        {
          "output_type": "execute_result",
          "data": {
            "text/plain": [
              "array([[6, 7, 3],\n",
              "       [7, 3, 9],\n",
              "       [4, 7, 8]])"
            ]
          },
          "metadata": {},
          "execution_count": 13
        }
      ]
    },
    {
      "cell_type": "code",
      "source": [
        "kernel = [[rd.randint(1,9) for i in range(3)] for j in range(3)]\n",
        "kernel = np.array(kernel)\n",
        "kernel\n"
      ],
      "metadata": {
        "colab": {
          "base_uri": "https://localhost:8080/"
        },
        "id": "JAfyCLdVqNDR",
        "outputId": "1bbec60f-65bb-4678-d5e1-1314114c09e1"
      },
      "execution_count": null,
      "outputs": [
        {
          "output_type": "execute_result",
          "data": {
            "text/plain": [
              "array([[7, 5, 9],\n",
              "       [9, 2, 1],\n",
              "       [3, 6, 6]])"
            ]
          },
          "metadata": {},
          "execution_count": 14
        }
      ]
    },
    {
      "cell_type": "code",
      "source": [
        "sum = np.array(np.add(data,kernel))\n",
        "sum"
      ],
      "metadata": {
        "colab": {
          "base_uri": "https://localhost:8080/"
        },
        "id": "d-pZnC8triFn",
        "outputId": "b8a0dbbf-3fdf-4a3f-8602-b7c32605c893"
      },
      "execution_count": null,
      "outputs": [
        {
          "output_type": "execute_result",
          "data": {
            "text/plain": [
              "array([[13, 12, 12],\n",
              "       [16,  5, 10],\n",
              "       [ 7, 13, 14]])"
            ]
          },
          "metadata": {},
          "execution_count": 15
        }
      ]
    },
    {
      "cell_type": "code",
      "source": [
        "sub = np.array(np.subtract(data,kernel))\n",
        "sub"
      ],
      "metadata": {
        "colab": {
          "base_uri": "https://localhost:8080/"
        },
        "id": "Co55Hzd58u-g",
        "outputId": "c9275da4-e591-4ced-84de-e470e2b0d84d"
      },
      "execution_count": null,
      "outputs": [
        {
          "output_type": "execute_result",
          "data": {
            "text/plain": [
              "array([[-1,  2, -6],\n",
              "       [-2,  1,  8],\n",
              "       [ 1,  1,  2]])"
            ]
          },
          "metadata": {},
          "execution_count": 19
        }
      ]
    },
    {
      "cell_type": "code",
      "source": [
        "mul = np.array(np.multiply(data,kernel))\n",
        "mul"
      ],
      "metadata": {
        "colab": {
          "base_uri": "https://localhost:8080/"
        },
        "id": "34G-EedD9a0i",
        "outputId": "aa187ada-fcd5-4d0e-b238-f2f0a9f444c7"
      },
      "execution_count": null,
      "outputs": [
        {
          "output_type": "execute_result",
          "data": {
            "text/plain": [
              "array([[42, 35, 27],\n",
              "       [63,  6,  9],\n",
              "       [12, 42, 48]])"
            ]
          },
          "metadata": {},
          "execution_count": 21
        }
      ]
    },
    {
      "cell_type": "code",
      "source": [
        "dotproduct = np.array(np.matmul(data,kernel))\n",
        "dotproduct"
      ],
      "metadata": {
        "colab": {
          "base_uri": "https://localhost:8080/"
        },
        "id": "8VNp58Zf-L37",
        "outputId": "618e99de-d7b0-4b36-d981-731159d401e7"
      },
      "execution_count": null,
      "outputs": [
        {
          "output_type": "execute_result",
          "data": {
            "text/plain": [
              "array([[114,  62,  79],\n",
              "       [103,  95, 120],\n",
              "       [115,  82,  91]])"
            ]
          },
          "metadata": {},
          "execution_count": 22
        }
      ]
    },
    {
      "cell_type": "code",
      "source": [
        "dot = np.array(data.dot(kernel))\n",
        "dot"
      ],
      "metadata": {
        "colab": {
          "base_uri": "https://localhost:8080/"
        },
        "id": "3M1EOnpx-q4H",
        "outputId": "638ca780-c6c8-4500-9c80-8b20b3cf3add"
      },
      "execution_count": null,
      "outputs": [
        {
          "output_type": "execute_result",
          "data": {
            "text/plain": [
              "array([[114,  62,  79],\n",
              "       [103,  95, 120],\n",
              "       [115,  82,  91]])"
            ]
          },
          "metadata": {},
          "execution_count": 24
        }
      ]
    },
    {
      "cell_type": "code",
      "source": [
        "data"
      ],
      "metadata": {
        "colab": {
          "base_uri": "https://localhost:8080/"
        },
        "id": "TmpuT8Zt_CNx",
        "outputId": "ee06366d-84c2-44ae-8324-e5e5c60f321c"
      },
      "execution_count": null,
      "outputs": [
        {
          "output_type": "execute_result",
          "data": {
            "text/plain": [
              "array([[6, 7, 3],\n",
              "       [7, 3, 9],\n",
              "       [4, 7, 8]])"
            ]
          },
          "metadata": {},
          "execution_count": 25
        }
      ]
    },
    {
      "cell_type": "code",
      "source": [
        "print(np.sum(data))\n",
        "print(np.sum(data,axis=0))   # sum across the rows(column wise)\n",
        "print(np.sum(data,axis=1))   # sum across the columns (row wise)"
      ],
      "metadata": {
        "colab": {
          "base_uri": "https://localhost:8080/"
        },
        "id": "oKiTfQm5_Fjy",
        "outputId": "63dd9d71-5648-4bb3-be5f-75134ca3613e"
      },
      "execution_count": null,
      "outputs": [
        {
          "output_type": "stream",
          "name": "stdout",
          "text": [
            "54\n",
            "[17 17 20]\n",
            "[16 19 19]\n"
          ]
        }
      ]
    },
    {
      "cell_type": "code",
      "source": [
        "print(data.min())\n",
        "print(data.min(axis=1))\n",
        "print(data.min(axis=0))"
      ],
      "metadata": {
        "colab": {
          "base_uri": "https://localhost:8080/"
        },
        "id": "X0fT9pSDARwv",
        "outputId": "f6b3ba94-d09c-4b83-90d8-5560d212b161"
      },
      "execution_count": null,
      "outputs": [
        {
          "output_type": "stream",
          "name": "stdout",
          "text": [
            "3\n",
            "[3 3 4]\n",
            "[4 3 3]\n"
          ]
        }
      ]
    },
    {
      "cell_type": "code",
      "source": [
        "print(data.max())\n",
        "print(data.max(axis=1))\n",
        "print(data.max(axis=0))"
      ],
      "metadata": {
        "colab": {
          "base_uri": "https://localhost:8080/"
        },
        "id": "sE-18VRzAkf6",
        "outputId": "35da03cd-d17e-464d-c3f8-2c25c2f1776e"
      },
      "execution_count": null,
      "outputs": [
        {
          "output_type": "stream",
          "name": "stdout",
          "text": [
            "9\n",
            "[7 9 8]\n",
            "[7 7 9]\n"
          ]
        }
      ]
    },
    {
      "cell_type": "code",
      "source": [
        "x = np.array([1,2])               # [1,2] + 3 = [4,5]\n",
        "y = np.array(3)                   #         |\n",
        "z = x+y                           # [1,2] + [3,3] = [4,5]\n",
        "print(z)"
      ],
      "metadata": {
        "colab": {
          "base_uri": "https://localhost:8080/"
        },
        "id": "fhBNDM1QBMXH",
        "outputId": "d0922490-8f65-4419-d377-07250bd8d05b"
      },
      "execution_count": null,
      "outputs": [
        {
          "output_type": "stream",
          "name": "stdout",
          "text": [
            "[4 5]\n"
          ]
        }
      ]
    },
    {
      "cell_type": "code",
      "source": [
        "a = np.array((1,3,7))\n",
        "b = np.expand_dims(a, axis=1)\n",
        "c = a+b\n",
        "\n",
        "c"
      ],
      "metadata": {
        "colab": {
          "base_uri": "https://localhost:8080/"
        },
        "id": "bLuRX6dVCMvY",
        "outputId": "1f18b6c9-b5fe-404f-e320-71765ae88bab"
      },
      "execution_count": null,
      "outputs": [
        {
          "output_type": "execute_result",
          "data": {
            "text/plain": [
              "array([[ 2,  4,  8],\n",
              "       [ 4,  6, 10],\n",
              "       [ 8, 10, 14]])"
            ]
          },
          "metadata": {},
          "execution_count": 42
        }
      ]
    },
    {
      "cell_type": "code",
      "source": [
        "a = np.array((2,5,8))\n",
        "b = np.expand_dims(a, axis=1)\n",
        "c = a+b\n",
        "\n",
        "c"
      ],
      "metadata": {
        "colab": {
          "base_uri": "https://localhost:8080/"
        },
        "id": "3H07GvpgE001",
        "outputId": "404e3aa3-0c6d-4924-ea67-fc5b80011a1f"
      },
      "execution_count": null,
      "outputs": [
        {
          "output_type": "execute_result",
          "data": {
            "text/plain": [
              "array([[ 4,  7, 10],\n",
              "       [ 7, 10, 13],\n",
              "       [10, 13, 16]])"
            ]
          },
          "metadata": {},
          "execution_count": 43
        }
      ]
    },
    {
      "cell_type": "code",
      "source": [
        "x = np.array([[1,2,3],[4,5,6]])\n",
        "print(\"x: \",x)\n",
        "print(\"x.shape: \",x.shape)\n",
        "y = np.transpose(x)\n",
        "print(\"y: \",y)\n",
        "print(\"y.shape: \",y.shape)"
      ],
      "metadata": {
        "colab": {
          "base_uri": "https://localhost:8080/"
        },
        "id": "IbJflUX6FXV2",
        "outputId": "d94b924c-21b4-4973-e2c4-40ab6608ee87"
      },
      "execution_count": null,
      "outputs": [
        {
          "output_type": "stream",
          "name": "stdout",
          "text": [
            "x:  [[1 2 3]\n",
            " [4 5 6]]\n",
            "x.shape:  (2, 3)\n",
            "y:  [[1 4]\n",
            " [2 5]\n",
            " [3 6]]\n",
            "y.shape:  (3, 2)\n"
          ]
        }
      ]
    },
    {
      "cell_type": "code",
      "source": [
        "x = np.array([i for i in range(1,7)])\n",
        "print(x)"
      ],
      "metadata": {
        "colab": {
          "base_uri": "https://localhost:8080/"
        },
        "id": "nBNl1VXOGKEQ",
        "outputId": "49810678-18b6-4c0e-a815-d56fe292b141"
      },
      "execution_count": null,
      "outputs": [
        {
          "output_type": "stream",
          "name": "stdout",
          "text": [
            "[1 2 3 4 5 6]\n"
          ]
        }
      ]
    },
    {
      "cell_type": "code",
      "source": [
        "y = np.reshape(x,(2,3))\n",
        "y"
      ],
      "metadata": {
        "colab": {
          "base_uri": "https://localhost:8080/"
        },
        "id": "833JBkmmGi59",
        "outputId": "1103b8d3-3b89-4125-9a53-d1bd6bbfaf35"
      },
      "execution_count": null,
      "outputs": [
        {
          "output_type": "execute_result",
          "data": {
            "text/plain": [
              "array([[1, 2, 3],\n",
              "       [4, 5, 6]])"
            ]
          },
          "metadata": {},
          "execution_count": 47
        }
      ]
    },
    {
      "cell_type": "code",
      "source": [
        "z = np.reshape(x,(3,2))\n",
        "z"
      ],
      "metadata": {
        "colab": {
          "base_uri": "https://localhost:8080/"
        },
        "id": "N3DTwePKGtYb",
        "outputId": "5e5030d2-315b-4248-b1af-e6773c9d15ba"
      },
      "execution_count": null,
      "outputs": [
        {
          "output_type": "execute_result",
          "data": {
            "text/plain": [
              "array([[1, 2],\n",
              "       [3, 4],\n",
              "       [5, 6]])"
            ]
          },
          "metadata": {},
          "execution_count": 48
        }
      ]
    },
    {
      "cell_type": "code",
      "source": [
        "x = np.random.random((2,3))\n",
        "x"
      ],
      "metadata": {
        "colab": {
          "base_uri": "https://localhost:8080/"
        },
        "id": "VNaJ4Rd4HPaZ",
        "outputId": "72be1c5d-1aac-4915-ff45-251faa47c9bc"
      },
      "execution_count": null,
      "outputs": [
        {
          "output_type": "execute_result",
          "data": {
            "text/plain": [
              "array([[0.21879211, 0.92486763, 0.44214076],\n",
              "       [0.90931596, 0.05980922, 0.18428708]])"
            ]
          },
          "metadata": {},
          "execution_count": 51
        }
      ]
    },
    {
      "cell_type": "code",
      "source": [
        "y = np.concatenate([x,x],axis =0)\n",
        "y"
      ],
      "metadata": {
        "colab": {
          "base_uri": "https://localhost:8080/"
        },
        "id": "cCrmA_3kIJQp",
        "outputId": "bd09d5a4-6972-4d8e-cea0-f966c46ccb6f"
      },
      "execution_count": null,
      "outputs": [
        {
          "output_type": "execute_result",
          "data": {
            "text/plain": [
              "array([[0.21879211, 0.92486763, 0.44214076],\n",
              "       [0.90931596, 0.05980922, 0.18428708],\n",
              "       [0.21879211, 0.92486763, 0.44214076],\n",
              "       [0.90931596, 0.05980922, 0.18428708]])"
            ]
          },
          "metadata": {},
          "execution_count": 52
        }
      ]
    },
    {
      "cell_type": "code",
      "source": [
        "z = np.concatenate([x,x],axis = 1)\n",
        "z"
      ],
      "metadata": {
        "colab": {
          "base_uri": "https://localhost:8080/"
        },
        "id": "4URxJOf6ISeg",
        "outputId": "34eb4248-e4cd-4709-c66e-1d37baac800a"
      },
      "execution_count": null,
      "outputs": [
        {
          "output_type": "execute_result",
          "data": {
            "text/plain": [
              "array([[0.21879211, 0.92486763, 0.44214076, 0.21879211, 0.92486763,\n",
              "        0.44214076],\n",
              "       [0.90931596, 0.05980922, 0.18428708, 0.90931596, 0.05980922,\n",
              "        0.18428708]])"
            ]
          },
          "metadata": {},
          "execution_count": 53
        }
      ]
    },
    {
      "cell_type": "code",
      "source": [
        "yy = np.stack([x,x],axis=0)\n",
        "yy"
      ],
      "metadata": {
        "colab": {
          "base_uri": "https://localhost:8080/"
        },
        "id": "ZT7DkGyTI0_3",
        "outputId": "240a060e-121e-44ee-c2a7-485ed0f65782"
      },
      "execution_count": null,
      "outputs": [
        {
          "output_type": "execute_result",
          "data": {
            "text/plain": [
              "array([[[0.21879211, 0.92486763, 0.44214076],\n",
              "        [0.90931596, 0.05980922, 0.18428708]],\n",
              "\n",
              "       [[0.21879211, 0.92486763, 0.44214076],\n",
              "        [0.90931596, 0.05980922, 0.18428708]]])"
            ]
          },
          "metadata": {},
          "execution_count": 54
        }
      ]
    },
    {
      "cell_type": "code",
      "source": [
        "x  = np.array([[1,2,3],[4,5,6]])\n",
        "y = np.expand_dims(x,1)\n",
        "print(y)\n",
        "print(y.shape)"
      ],
      "metadata": {
        "colab": {
          "base_uri": "https://localhost:8080/"
        },
        "id": "tvnyl-X9JiLN",
        "outputId": "8e34a29e-b24a-450e-f178-bfef4fc2197d"
      },
      "execution_count": null,
      "outputs": [
        {
          "output_type": "stream",
          "name": "stdout",
          "text": [
            "[[[1 2 3]]\n",
            "\n",
            " [[4 5 6]]]\n",
            "(2, 1, 3)\n"
          ]
        }
      ]
    },
    {
      "cell_type": "code",
      "source": [
        "x  = np.array([[1,2,3],[4,5,6]])\n",
        "y = np.expand_dims(x,0)\n",
        "print(y)\n",
        "print(y.shape)"
      ],
      "metadata": {
        "colab": {
          "base_uri": "https://localhost:8080/"
        },
        "id": "GDaaAzkPJwJc",
        "outputId": "ed9c7b68-aa39-45a9-8138-94984a099e9f"
      },
      "execution_count": null,
      "outputs": [
        {
          "output_type": "stream",
          "name": "stdout",
          "text": [
            "[[[1 2 3]\n",
            "  [4 5 6]]]\n",
            "(1, 2, 3)\n"
          ]
        }
      ]
    },
    {
      "cell_type": "code",
      "source": [
        "x  = np.array([[1,2,3],[4,5,6]])\n",
        "y = np.expand_dims(x,2)\n",
        "print(y)\n",
        "print(y.shape)"
      ],
      "metadata": {
        "colab": {
          "base_uri": "https://localhost:8080/"
        },
        "id": "Dwcp8yvXJ9nw",
        "outputId": "268f7253-419e-4eb4-e14c-8812acbb48d0"
      },
      "execution_count": null,
      "outputs": [
        {
          "output_type": "stream",
          "name": "stdout",
          "text": [
            "[[[1]\n",
            "  [2]\n",
            "  [3]]\n",
            "\n",
            " [[4]\n",
            "  [5]\n",
            "  [6]]]\n",
            "(2, 3, 1)\n"
          ]
        }
      ]
    },
    {
      "cell_type": "code",
      "source": [
        "x  = np.array([[[1,2,3]],[[4,5,6]]])\n",
        "y = np.squeeze(x,1)\n",
        "print(y)\n",
        "print(y.shape)"
      ],
      "metadata": {
        "colab": {
          "base_uri": "https://localhost:8080/"
        },
        "id": "NMH4iD9_KmOY",
        "outputId": "6f5ff9b1-bd52-4235-8531-4b1ceaea2bf7"
      },
      "execution_count": null,
      "outputs": [
        {
          "output_type": "stream",
          "name": "stdout",
          "text": [
            "[[1 2 3]\n",
            " [4 5 6]]\n",
            "(2, 3)\n"
          ]
        }
      ]
    },
    {
      "cell_type": "code",
      "source": [],
      "metadata": {
        "id": "3HaizcRDLgt4"
      },
      "execution_count": null,
      "outputs": []
    }
  ]
}